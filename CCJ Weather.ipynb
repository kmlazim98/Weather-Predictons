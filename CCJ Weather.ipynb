{
 "cells": [
  {
   "cell_type": "markdown",
   "id": "3a5f83c7",
   "metadata": {},
   "source": [
    "### Weather Forecasting"
   ]
  },
  {
   "cell_type": "code",
   "execution_count": 7,
   "id": "77a46784-b3ae-4d52-a6bb-11fc5a83d6dd",
   "metadata": {},
   "outputs": [],
   "source": [
    "import pandas as pd"
   ]
  },
  {
   "cell_type": "code",
   "execution_count": 8,
   "id": "5c5e66c9-8a1f-4fba-8ec4-7e1af4af67b3",
   "metadata": {},
   "outputs": [],
   "source": [
    "weather =pd.read_csv(\"local_weather.csv\",index_col = \"DATE\")"
   ]
  },
  {
   "cell_type": "code",
   "execution_count": 9,
   "id": "aba5c73b-c029-4ff5-8b9a-4f401c2dc9e6",
   "metadata": {},
   "outputs": [
    {
     "data": {
      "text/html": [
       "<div>\n",
       "<style scoped>\n",
       "    .dataframe tbody tr th:only-of-type {\n",
       "        vertical-align: middle;\n",
       "    }\n",
       "\n",
       "    .dataframe tbody tr th {\n",
       "        vertical-align: top;\n",
       "    }\n",
       "\n",
       "    .dataframe thead th {\n",
       "        text-align: right;\n",
       "    }\n",
       "</style>\n",
       "<table border=\"1\" class=\"dataframe\">\n",
       "  <thead>\n",
       "    <tr style=\"text-align: right;\">\n",
       "      <th></th>\n",
       "      <th>STATION</th>\n",
       "      <th>NAME</th>\n",
       "      <th>ACMH</th>\n",
       "      <th>ACSH</th>\n",
       "      <th>AWND</th>\n",
       "      <th>DAPR</th>\n",
       "      <th>FMTM</th>\n",
       "      <th>FRGT</th>\n",
       "      <th>MDPR</th>\n",
       "      <th>PGTM</th>\n",
       "      <th>...</th>\n",
       "      <th>WT01</th>\n",
       "      <th>WT02</th>\n",
       "      <th>WT03</th>\n",
       "      <th>WT04</th>\n",
       "      <th>WT05</th>\n",
       "      <th>WT07</th>\n",
       "      <th>WT08</th>\n",
       "      <th>WT09</th>\n",
       "      <th>WT16</th>\n",
       "      <th>WT18</th>\n",
       "    </tr>\n",
       "    <tr>\n",
       "      <th>DATE</th>\n",
       "      <th></th>\n",
       "      <th></th>\n",
       "      <th></th>\n",
       "      <th></th>\n",
       "      <th></th>\n",
       "      <th></th>\n",
       "      <th></th>\n",
       "      <th></th>\n",
       "      <th></th>\n",
       "      <th></th>\n",
       "      <th></th>\n",
       "      <th></th>\n",
       "      <th></th>\n",
       "      <th></th>\n",
       "      <th></th>\n",
       "      <th></th>\n",
       "      <th></th>\n",
       "      <th></th>\n",
       "      <th></th>\n",
       "      <th></th>\n",
       "      <th></th>\n",
       "    </tr>\n",
       "  </thead>\n",
       "  <tbody>\n",
       "    <tr>\n",
       "      <th>1960-01-01</th>\n",
       "      <td>USW00023230</td>\n",
       "      <td>OAKLAND INTERNATIONAL AIRPORT, CA US</td>\n",
       "      <td>NaN</td>\n",
       "      <td>NaN</td>\n",
       "      <td>NaN</td>\n",
       "      <td>NaN</td>\n",
       "      <td>NaN</td>\n",
       "      <td>NaN</td>\n",
       "      <td>NaN</td>\n",
       "      <td>NaN</td>\n",
       "      <td>...</td>\n",
       "      <td>NaN</td>\n",
       "      <td>NaN</td>\n",
       "      <td>NaN</td>\n",
       "      <td>NaN</td>\n",
       "      <td>NaN</td>\n",
       "      <td>NaN</td>\n",
       "      <td>NaN</td>\n",
       "      <td>NaN</td>\n",
       "      <td>NaN</td>\n",
       "      <td>NaN</td>\n",
       "    </tr>\n",
       "    <tr>\n",
       "      <th>1960-01-02</th>\n",
       "      <td>USW00023230</td>\n",
       "      <td>OAKLAND INTERNATIONAL AIRPORT, CA US</td>\n",
       "      <td>NaN</td>\n",
       "      <td>NaN</td>\n",
       "      <td>NaN</td>\n",
       "      <td>NaN</td>\n",
       "      <td>NaN</td>\n",
       "      <td>NaN</td>\n",
       "      <td>NaN</td>\n",
       "      <td>NaN</td>\n",
       "      <td>...</td>\n",
       "      <td>NaN</td>\n",
       "      <td>NaN</td>\n",
       "      <td>NaN</td>\n",
       "      <td>NaN</td>\n",
       "      <td>NaN</td>\n",
       "      <td>NaN</td>\n",
       "      <td>NaN</td>\n",
       "      <td>NaN</td>\n",
       "      <td>1.0</td>\n",
       "      <td>NaN</td>\n",
       "    </tr>\n",
       "    <tr>\n",
       "      <th>1960-01-03</th>\n",
       "      <td>USW00023230</td>\n",
       "      <td>OAKLAND INTERNATIONAL AIRPORT, CA US</td>\n",
       "      <td>NaN</td>\n",
       "      <td>NaN</td>\n",
       "      <td>NaN</td>\n",
       "      <td>NaN</td>\n",
       "      <td>NaN</td>\n",
       "      <td>NaN</td>\n",
       "      <td>NaN</td>\n",
       "      <td>NaN</td>\n",
       "      <td>...</td>\n",
       "      <td>NaN</td>\n",
       "      <td>NaN</td>\n",
       "      <td>NaN</td>\n",
       "      <td>NaN</td>\n",
       "      <td>NaN</td>\n",
       "      <td>NaN</td>\n",
       "      <td>NaN</td>\n",
       "      <td>NaN</td>\n",
       "      <td>NaN</td>\n",
       "      <td>NaN</td>\n",
       "    </tr>\n",
       "    <tr>\n",
       "      <th>1960-01-04</th>\n",
       "      <td>USW00023230</td>\n",
       "      <td>OAKLAND INTERNATIONAL AIRPORT, CA US</td>\n",
       "      <td>NaN</td>\n",
       "      <td>NaN</td>\n",
       "      <td>NaN</td>\n",
       "      <td>NaN</td>\n",
       "      <td>NaN</td>\n",
       "      <td>NaN</td>\n",
       "      <td>NaN</td>\n",
       "      <td>NaN</td>\n",
       "      <td>...</td>\n",
       "      <td>NaN</td>\n",
       "      <td>NaN</td>\n",
       "      <td>NaN</td>\n",
       "      <td>NaN</td>\n",
       "      <td>NaN</td>\n",
       "      <td>NaN</td>\n",
       "      <td>NaN</td>\n",
       "      <td>NaN</td>\n",
       "      <td>NaN</td>\n",
       "      <td>NaN</td>\n",
       "    </tr>\n",
       "    <tr>\n",
       "      <th>1960-01-05</th>\n",
       "      <td>USW00023230</td>\n",
       "      <td>OAKLAND INTERNATIONAL AIRPORT, CA US</td>\n",
       "      <td>NaN</td>\n",
       "      <td>NaN</td>\n",
       "      <td>NaN</td>\n",
       "      <td>NaN</td>\n",
       "      <td>NaN</td>\n",
       "      <td>NaN</td>\n",
       "      <td>NaN</td>\n",
       "      <td>NaN</td>\n",
       "      <td>...</td>\n",
       "      <td>1.0</td>\n",
       "      <td>NaN</td>\n",
       "      <td>NaN</td>\n",
       "      <td>NaN</td>\n",
       "      <td>NaN</td>\n",
       "      <td>NaN</td>\n",
       "      <td>1.0</td>\n",
       "      <td>NaN</td>\n",
       "      <td>NaN</td>\n",
       "      <td>NaN</td>\n",
       "    </tr>\n",
       "    <tr>\n",
       "      <th>...</th>\n",
       "      <td>...</td>\n",
       "      <td>...</td>\n",
       "      <td>...</td>\n",
       "      <td>...</td>\n",
       "      <td>...</td>\n",
       "      <td>...</td>\n",
       "      <td>...</td>\n",
       "      <td>...</td>\n",
       "      <td>...</td>\n",
       "      <td>...</td>\n",
       "      <td>...</td>\n",
       "      <td>...</td>\n",
       "      <td>...</td>\n",
       "      <td>...</td>\n",
       "      <td>...</td>\n",
       "      <td>...</td>\n",
       "      <td>...</td>\n",
       "      <td>...</td>\n",
       "      <td>...</td>\n",
       "      <td>...</td>\n",
       "      <td>...</td>\n",
       "    </tr>\n",
       "    <tr>\n",
       "      <th>2022-01-24</th>\n",
       "      <td>USW00023230</td>\n",
       "      <td>OAKLAND INTERNATIONAL AIRPORT, CA US</td>\n",
       "      <td>NaN</td>\n",
       "      <td>NaN</td>\n",
       "      <td>4.47</td>\n",
       "      <td>NaN</td>\n",
       "      <td>NaN</td>\n",
       "      <td>NaN</td>\n",
       "      <td>NaN</td>\n",
       "      <td>NaN</td>\n",
       "      <td>...</td>\n",
       "      <td>1.0</td>\n",
       "      <td>NaN</td>\n",
       "      <td>NaN</td>\n",
       "      <td>NaN</td>\n",
       "      <td>NaN</td>\n",
       "      <td>NaN</td>\n",
       "      <td>1.0</td>\n",
       "      <td>NaN</td>\n",
       "      <td>NaN</td>\n",
       "      <td>NaN</td>\n",
       "    </tr>\n",
       "    <tr>\n",
       "      <th>2022-01-25</th>\n",
       "      <td>USW00023230</td>\n",
       "      <td>OAKLAND INTERNATIONAL AIRPORT, CA US</td>\n",
       "      <td>NaN</td>\n",
       "      <td>NaN</td>\n",
       "      <td>4.70</td>\n",
       "      <td>NaN</td>\n",
       "      <td>NaN</td>\n",
       "      <td>NaN</td>\n",
       "      <td>NaN</td>\n",
       "      <td>NaN</td>\n",
       "      <td>...</td>\n",
       "      <td>1.0</td>\n",
       "      <td>NaN</td>\n",
       "      <td>NaN</td>\n",
       "      <td>NaN</td>\n",
       "      <td>NaN</td>\n",
       "      <td>NaN</td>\n",
       "      <td>1.0</td>\n",
       "      <td>NaN</td>\n",
       "      <td>NaN</td>\n",
       "      <td>NaN</td>\n",
       "    </tr>\n",
       "    <tr>\n",
       "      <th>2022-01-26</th>\n",
       "      <td>USW00023230</td>\n",
       "      <td>OAKLAND INTERNATIONAL AIRPORT, CA US</td>\n",
       "      <td>NaN</td>\n",
       "      <td>NaN</td>\n",
       "      <td>2.68</td>\n",
       "      <td>NaN</td>\n",
       "      <td>NaN</td>\n",
       "      <td>NaN</td>\n",
       "      <td>NaN</td>\n",
       "      <td>NaN</td>\n",
       "      <td>...</td>\n",
       "      <td>1.0</td>\n",
       "      <td>NaN</td>\n",
       "      <td>NaN</td>\n",
       "      <td>NaN</td>\n",
       "      <td>NaN</td>\n",
       "      <td>NaN</td>\n",
       "      <td>1.0</td>\n",
       "      <td>NaN</td>\n",
       "      <td>NaN</td>\n",
       "      <td>NaN</td>\n",
       "    </tr>\n",
       "    <tr>\n",
       "      <th>2022-01-27</th>\n",
       "      <td>USW00023230</td>\n",
       "      <td>OAKLAND INTERNATIONAL AIRPORT, CA US</td>\n",
       "      <td>NaN</td>\n",
       "      <td>NaN</td>\n",
       "      <td>3.13</td>\n",
       "      <td>NaN</td>\n",
       "      <td>NaN</td>\n",
       "      <td>NaN</td>\n",
       "      <td>NaN</td>\n",
       "      <td>1526.0</td>\n",
       "      <td>...</td>\n",
       "      <td>1.0</td>\n",
       "      <td>NaN</td>\n",
       "      <td>NaN</td>\n",
       "      <td>NaN</td>\n",
       "      <td>NaN</td>\n",
       "      <td>NaN</td>\n",
       "      <td>NaN</td>\n",
       "      <td>NaN</td>\n",
       "      <td>NaN</td>\n",
       "      <td>NaN</td>\n",
       "    </tr>\n",
       "    <tr>\n",
       "      <th>2022-01-28</th>\n",
       "      <td>USW00023230</td>\n",
       "      <td>OAKLAND INTERNATIONAL AIRPORT, CA US</td>\n",
       "      <td>NaN</td>\n",
       "      <td>NaN</td>\n",
       "      <td>NaN</td>\n",
       "      <td>NaN</td>\n",
       "      <td>NaN</td>\n",
       "      <td>NaN</td>\n",
       "      <td>NaN</td>\n",
       "      <td>NaN</td>\n",
       "      <td>...</td>\n",
       "      <td>NaN</td>\n",
       "      <td>NaN</td>\n",
       "      <td>NaN</td>\n",
       "      <td>NaN</td>\n",
       "      <td>NaN</td>\n",
       "      <td>NaN</td>\n",
       "      <td>NaN</td>\n",
       "      <td>NaN</td>\n",
       "      <td>NaN</td>\n",
       "      <td>NaN</td>\n",
       "    </tr>\n",
       "  </tbody>\n",
       "</table>\n",
       "<p>16859 rows × 35 columns</p>\n",
       "</div>"
      ],
      "text/plain": [
       "                STATION                                  NAME  ACMH  ACSH  \\\n",
       "DATE                                                                        \n",
       "1960-01-01  USW00023230  OAKLAND INTERNATIONAL AIRPORT, CA US   NaN   NaN   \n",
       "1960-01-02  USW00023230  OAKLAND INTERNATIONAL AIRPORT, CA US   NaN   NaN   \n",
       "1960-01-03  USW00023230  OAKLAND INTERNATIONAL AIRPORT, CA US   NaN   NaN   \n",
       "1960-01-04  USW00023230  OAKLAND INTERNATIONAL AIRPORT, CA US   NaN   NaN   \n",
       "1960-01-05  USW00023230  OAKLAND INTERNATIONAL AIRPORT, CA US   NaN   NaN   \n",
       "...                 ...                                   ...   ...   ...   \n",
       "2022-01-24  USW00023230  OAKLAND INTERNATIONAL AIRPORT, CA US   NaN   NaN   \n",
       "2022-01-25  USW00023230  OAKLAND INTERNATIONAL AIRPORT, CA US   NaN   NaN   \n",
       "2022-01-26  USW00023230  OAKLAND INTERNATIONAL AIRPORT, CA US   NaN   NaN   \n",
       "2022-01-27  USW00023230  OAKLAND INTERNATIONAL AIRPORT, CA US   NaN   NaN   \n",
       "2022-01-28  USW00023230  OAKLAND INTERNATIONAL AIRPORT, CA US   NaN   NaN   \n",
       "\n",
       "            AWND  DAPR  FMTM  FRGT  MDPR    PGTM  ...  WT01  WT02  WT03  WT04  \\\n",
       "DATE                                              ...                           \n",
       "1960-01-01   NaN   NaN   NaN   NaN   NaN     NaN  ...   NaN   NaN   NaN   NaN   \n",
       "1960-01-02   NaN   NaN   NaN   NaN   NaN     NaN  ...   NaN   NaN   NaN   NaN   \n",
       "1960-01-03   NaN   NaN   NaN   NaN   NaN     NaN  ...   NaN   NaN   NaN   NaN   \n",
       "1960-01-04   NaN   NaN   NaN   NaN   NaN     NaN  ...   NaN   NaN   NaN   NaN   \n",
       "1960-01-05   NaN   NaN   NaN   NaN   NaN     NaN  ...   1.0   NaN   NaN   NaN   \n",
       "...          ...   ...   ...   ...   ...     ...  ...   ...   ...   ...   ...   \n",
       "2022-01-24  4.47   NaN   NaN   NaN   NaN     NaN  ...   1.0   NaN   NaN   NaN   \n",
       "2022-01-25  4.70   NaN   NaN   NaN   NaN     NaN  ...   1.0   NaN   NaN   NaN   \n",
       "2022-01-26  2.68   NaN   NaN   NaN   NaN     NaN  ...   1.0   NaN   NaN   NaN   \n",
       "2022-01-27  3.13   NaN   NaN   NaN   NaN  1526.0  ...   1.0   NaN   NaN   NaN   \n",
       "2022-01-28   NaN   NaN   NaN   NaN   NaN     NaN  ...   NaN   NaN   NaN   NaN   \n",
       "\n",
       "            WT05  WT07  WT08  WT09  WT16  WT18  \n",
       "DATE                                            \n",
       "1960-01-01   NaN   NaN   NaN   NaN   NaN   NaN  \n",
       "1960-01-02   NaN   NaN   NaN   NaN   1.0   NaN  \n",
       "1960-01-03   NaN   NaN   NaN   NaN   NaN   NaN  \n",
       "1960-01-04   NaN   NaN   NaN   NaN   NaN   NaN  \n",
       "1960-01-05   NaN   NaN   1.0   NaN   NaN   NaN  \n",
       "...          ...   ...   ...   ...   ...   ...  \n",
       "2022-01-24   NaN   NaN   1.0   NaN   NaN   NaN  \n",
       "2022-01-25   NaN   NaN   1.0   NaN   NaN   NaN  \n",
       "2022-01-26   NaN   NaN   1.0   NaN   NaN   NaN  \n",
       "2022-01-27   NaN   NaN   NaN   NaN   NaN   NaN  \n",
       "2022-01-28   NaN   NaN   NaN   NaN   NaN   NaN  \n",
       "\n",
       "[16859 rows x 35 columns]"
      ]
     },
     "execution_count": 9,
     "metadata": {},
     "output_type": "execute_result"
    }
   ],
   "source": [
    "weather"
   ]
  },
  {
   "cell_type": "markdown",
   "id": "03066bdb-1990-4bc7-aace-7d122f35bdfd",
   "metadata": {},
   "source": [
    "Prepare the Data for Machine Learning"
   ]
  },
  {
   "cell_type": "code",
   "execution_count": null,
   "id": "04ace2a2-cf4c-4278-9125-629cb7a619ef",
   "metadata": {},
   "outputs": [],
   "source": []
  },
  {
   "cell_type": "code",
   "execution_count": 10,
   "id": "0d393251-3b47-41c9-ad29-6df2be305461",
   "metadata": {},
   "outputs": [
    {
     "data": {
      "text/plain": [
       "STATION    0.000000\n",
       "NAME       0.000000\n",
       "ACMH       0.653360\n",
       "ACSH       0.653360\n",
       "AWND       0.522451\n",
       "DAPR       0.999525\n",
       "FMTM       0.870099\n",
       "FRGT       0.999881\n",
       "MDPR       0.999525\n",
       "PGTM       0.495106\n",
       "PRCP       0.016668\n",
       "SNOW       0.324990\n",
       "SNWD       0.317634\n",
       "TAVG       0.879174\n",
       "TMAX       0.000534\n",
       "TMIN       0.000593\n",
       "TSUN       0.931728\n",
       "WDF1       0.653360\n",
       "WDF2       0.522392\n",
       "WDF5       0.527552\n",
       "WDFG       0.746901\n",
       "WSF1       0.653360\n",
       "WSF2       0.522332\n",
       "WSF5       0.527552\n",
       "WSFG       0.746901\n",
       "WT01       0.779939\n",
       "WT02       0.980248\n",
       "WT03       0.992941\n",
       "WT04       0.999763\n",
       "WT05       0.998339\n",
       "WT07       0.999881\n",
       "WT08       0.810368\n",
       "WT09       0.999881\n",
       "WT16       0.884038\n",
       "WT18       0.999822\n",
       "dtype: float64"
      ]
     },
     "execution_count": 10,
     "metadata": {},
     "output_type": "execute_result"
    }
   ],
   "source": [
    "weather.apply(pd.isnull).sum()/weather.shape[0]"
   ]
  },
  {
   "cell_type": "code",
   "execution_count": 11,
   "id": "c38e6e11-2523-4e7f-bc51-89458935f6ce",
   "metadata": {},
   "outputs": [],
   "source": [
    "core_weather = weather[[\"PRCP\",\"SNOW\",\"SNWD\",\"TMAX\",\"TMIN\"]].copy()"
   ]
  },
  {
   "cell_type": "code",
   "execution_count": 12,
   "id": "0fb4bb53-7200-44c7-a84f-0e15a8c37364",
   "metadata": {},
   "outputs": [
    {
     "data": {
      "text/html": [
       "<div>\n",
       "<style scoped>\n",
       "    .dataframe tbody tr th:only-of-type {\n",
       "        vertical-align: middle;\n",
       "    }\n",
       "\n",
       "    .dataframe tbody tr th {\n",
       "        vertical-align: top;\n",
       "    }\n",
       "\n",
       "    .dataframe thead th {\n",
       "        text-align: right;\n",
       "    }\n",
       "</style>\n",
       "<table border=\"1\" class=\"dataframe\">\n",
       "  <thead>\n",
       "    <tr style=\"text-align: right;\">\n",
       "      <th></th>\n",
       "      <th>PRCP</th>\n",
       "      <th>SNOW</th>\n",
       "      <th>SNWD</th>\n",
       "      <th>TMAX</th>\n",
       "      <th>TMIN</th>\n",
       "    </tr>\n",
       "    <tr>\n",
       "      <th>DATE</th>\n",
       "      <th></th>\n",
       "      <th></th>\n",
       "      <th></th>\n",
       "      <th></th>\n",
       "      <th></th>\n",
       "    </tr>\n",
       "  </thead>\n",
       "  <tbody>\n",
       "    <tr>\n",
       "      <th>1960-01-01</th>\n",
       "      <td>0.0</td>\n",
       "      <td>0.0</td>\n",
       "      <td>0.0</td>\n",
       "      <td>49.0</td>\n",
       "      <td>30.0</td>\n",
       "    </tr>\n",
       "    <tr>\n",
       "      <th>1960-01-02</th>\n",
       "      <td>0.0</td>\n",
       "      <td>0.0</td>\n",
       "      <td>0.0</td>\n",
       "      <td>49.0</td>\n",
       "      <td>29.0</td>\n",
       "    </tr>\n",
       "    <tr>\n",
       "      <th>1960-01-03</th>\n",
       "      <td>0.0</td>\n",
       "      <td>0.0</td>\n",
       "      <td>0.0</td>\n",
       "      <td>54.0</td>\n",
       "      <td>35.0</td>\n",
       "    </tr>\n",
       "    <tr>\n",
       "      <th>1960-01-04</th>\n",
       "      <td>0.0</td>\n",
       "      <td>0.0</td>\n",
       "      <td>0.0</td>\n",
       "      <td>54.0</td>\n",
       "      <td>36.0</td>\n",
       "    </tr>\n",
       "    <tr>\n",
       "      <th>1960-01-05</th>\n",
       "      <td>0.0</td>\n",
       "      <td>0.0</td>\n",
       "      <td>0.0</td>\n",
       "      <td>55.0</td>\n",
       "      <td>33.0</td>\n",
       "    </tr>\n",
       "    <tr>\n",
       "      <th>...</th>\n",
       "      <td>...</td>\n",
       "      <td>...</td>\n",
       "      <td>...</td>\n",
       "      <td>...</td>\n",
       "      <td>...</td>\n",
       "    </tr>\n",
       "    <tr>\n",
       "      <th>2022-01-24</th>\n",
       "      <td>0.0</td>\n",
       "      <td>NaN</td>\n",
       "      <td>NaN</td>\n",
       "      <td>60.0</td>\n",
       "      <td>39.0</td>\n",
       "    </tr>\n",
       "    <tr>\n",
       "      <th>2022-01-25</th>\n",
       "      <td>0.0</td>\n",
       "      <td>NaN</td>\n",
       "      <td>NaN</td>\n",
       "      <td>57.0</td>\n",
       "      <td>43.0</td>\n",
       "    </tr>\n",
       "    <tr>\n",
       "      <th>2022-01-26</th>\n",
       "      <td>0.0</td>\n",
       "      <td>NaN</td>\n",
       "      <td>NaN</td>\n",
       "      <td>57.0</td>\n",
       "      <td>41.0</td>\n",
       "    </tr>\n",
       "    <tr>\n",
       "      <th>2022-01-27</th>\n",
       "      <td>0.0</td>\n",
       "      <td>NaN</td>\n",
       "      <td>NaN</td>\n",
       "      <td>67.0</td>\n",
       "      <td>39.0</td>\n",
       "    </tr>\n",
       "    <tr>\n",
       "      <th>2022-01-28</th>\n",
       "      <td>0.0</td>\n",
       "      <td>NaN</td>\n",
       "      <td>NaN</td>\n",
       "      <td>64.0</td>\n",
       "      <td>39.0</td>\n",
       "    </tr>\n",
       "  </tbody>\n",
       "</table>\n",
       "<p>16859 rows × 5 columns</p>\n",
       "</div>"
      ],
      "text/plain": [
       "            PRCP  SNOW  SNWD  TMAX  TMIN\n",
       "DATE                                    \n",
       "1960-01-01   0.0   0.0   0.0  49.0  30.0\n",
       "1960-01-02   0.0   0.0   0.0  49.0  29.0\n",
       "1960-01-03   0.0   0.0   0.0  54.0  35.0\n",
       "1960-01-04   0.0   0.0   0.0  54.0  36.0\n",
       "1960-01-05   0.0   0.0   0.0  55.0  33.0\n",
       "...          ...   ...   ...   ...   ...\n",
       "2022-01-24   0.0   NaN   NaN  60.0  39.0\n",
       "2022-01-25   0.0   NaN   NaN  57.0  43.0\n",
       "2022-01-26   0.0   NaN   NaN  57.0  41.0\n",
       "2022-01-27   0.0   NaN   NaN  67.0  39.0\n",
       "2022-01-28   0.0   NaN   NaN  64.0  39.0\n",
       "\n",
       "[16859 rows x 5 columns]"
      ]
     },
     "execution_count": 12,
     "metadata": {},
     "output_type": "execute_result"
    }
   ],
   "source": [
    "core_weather"
   ]
  },
  {
   "cell_type": "code",
   "execution_count": 13,
   "id": "180adb32-a3e3-438e-a1c3-ee678c9cb2c5",
   "metadata": {},
   "outputs": [],
   "source": [
    "core_weather.columns = [\"precip\",\"snow\",\"snow_depth\",\"temp_max\",\"temp_min\"]"
   ]
  },
  {
   "cell_type": "code",
   "execution_count": 14,
   "id": "ac44a870-f0ad-41e8-8671-b86c18d3275c",
   "metadata": {},
   "outputs": [
    {
     "data": {
      "text/html": [
       "<div>\n",
       "<style scoped>\n",
       "    .dataframe tbody tr th:only-of-type {\n",
       "        vertical-align: middle;\n",
       "    }\n",
       "\n",
       "    .dataframe tbody tr th {\n",
       "        vertical-align: top;\n",
       "    }\n",
       "\n",
       "    .dataframe thead th {\n",
       "        text-align: right;\n",
       "    }\n",
       "</style>\n",
       "<table border=\"1\" class=\"dataframe\">\n",
       "  <thead>\n",
       "    <tr style=\"text-align: right;\">\n",
       "      <th></th>\n",
       "      <th>precip</th>\n",
       "      <th>snow</th>\n",
       "      <th>snow_depth</th>\n",
       "      <th>temp_max</th>\n",
       "      <th>temp_min</th>\n",
       "    </tr>\n",
       "    <tr>\n",
       "      <th>DATE</th>\n",
       "      <th></th>\n",
       "      <th></th>\n",
       "      <th></th>\n",
       "      <th></th>\n",
       "      <th></th>\n",
       "    </tr>\n",
       "  </thead>\n",
       "  <tbody>\n",
       "    <tr>\n",
       "      <th>1960-01-01</th>\n",
       "      <td>0.0</td>\n",
       "      <td>0.0</td>\n",
       "      <td>0.0</td>\n",
       "      <td>49.0</td>\n",
       "      <td>30.0</td>\n",
       "    </tr>\n",
       "    <tr>\n",
       "      <th>1960-01-02</th>\n",
       "      <td>0.0</td>\n",
       "      <td>0.0</td>\n",
       "      <td>0.0</td>\n",
       "      <td>49.0</td>\n",
       "      <td>29.0</td>\n",
       "    </tr>\n",
       "    <tr>\n",
       "      <th>1960-01-03</th>\n",
       "      <td>0.0</td>\n",
       "      <td>0.0</td>\n",
       "      <td>0.0</td>\n",
       "      <td>54.0</td>\n",
       "      <td>35.0</td>\n",
       "    </tr>\n",
       "    <tr>\n",
       "      <th>1960-01-04</th>\n",
       "      <td>0.0</td>\n",
       "      <td>0.0</td>\n",
       "      <td>0.0</td>\n",
       "      <td>54.0</td>\n",
       "      <td>36.0</td>\n",
       "    </tr>\n",
       "    <tr>\n",
       "      <th>1960-01-05</th>\n",
       "      <td>0.0</td>\n",
       "      <td>0.0</td>\n",
       "      <td>0.0</td>\n",
       "      <td>55.0</td>\n",
       "      <td>33.0</td>\n",
       "    </tr>\n",
       "    <tr>\n",
       "      <th>...</th>\n",
       "      <td>...</td>\n",
       "      <td>...</td>\n",
       "      <td>...</td>\n",
       "      <td>...</td>\n",
       "      <td>...</td>\n",
       "    </tr>\n",
       "    <tr>\n",
       "      <th>2022-01-24</th>\n",
       "      <td>0.0</td>\n",
       "      <td>NaN</td>\n",
       "      <td>NaN</td>\n",
       "      <td>60.0</td>\n",
       "      <td>39.0</td>\n",
       "    </tr>\n",
       "    <tr>\n",
       "      <th>2022-01-25</th>\n",
       "      <td>0.0</td>\n",
       "      <td>NaN</td>\n",
       "      <td>NaN</td>\n",
       "      <td>57.0</td>\n",
       "      <td>43.0</td>\n",
       "    </tr>\n",
       "    <tr>\n",
       "      <th>2022-01-26</th>\n",
       "      <td>0.0</td>\n",
       "      <td>NaN</td>\n",
       "      <td>NaN</td>\n",
       "      <td>57.0</td>\n",
       "      <td>41.0</td>\n",
       "    </tr>\n",
       "    <tr>\n",
       "      <th>2022-01-27</th>\n",
       "      <td>0.0</td>\n",
       "      <td>NaN</td>\n",
       "      <td>NaN</td>\n",
       "      <td>67.0</td>\n",
       "      <td>39.0</td>\n",
       "    </tr>\n",
       "    <tr>\n",
       "      <th>2022-01-28</th>\n",
       "      <td>0.0</td>\n",
       "      <td>NaN</td>\n",
       "      <td>NaN</td>\n",
       "      <td>64.0</td>\n",
       "      <td>39.0</td>\n",
       "    </tr>\n",
       "  </tbody>\n",
       "</table>\n",
       "<p>16859 rows × 5 columns</p>\n",
       "</div>"
      ],
      "text/plain": [
       "            precip  snow  snow_depth  temp_max  temp_min\n",
       "DATE                                                    \n",
       "1960-01-01     0.0   0.0         0.0      49.0      30.0\n",
       "1960-01-02     0.0   0.0         0.0      49.0      29.0\n",
       "1960-01-03     0.0   0.0         0.0      54.0      35.0\n",
       "1960-01-04     0.0   0.0         0.0      54.0      36.0\n",
       "1960-01-05     0.0   0.0         0.0      55.0      33.0\n",
       "...            ...   ...         ...       ...       ...\n",
       "2022-01-24     0.0   NaN         NaN      60.0      39.0\n",
       "2022-01-25     0.0   NaN         NaN      57.0      43.0\n",
       "2022-01-26     0.0   NaN         NaN      57.0      41.0\n",
       "2022-01-27     0.0   NaN         NaN      67.0      39.0\n",
       "2022-01-28     0.0   NaN         NaN      64.0      39.0\n",
       "\n",
       "[16859 rows x 5 columns]"
      ]
     },
     "execution_count": 14,
     "metadata": {},
     "output_type": "execute_result"
    }
   ],
   "source": [
    "core_weather"
   ]
  },
  {
   "cell_type": "markdown",
   "id": "1e974256-128c-45a7-8d7b-36057608b547",
   "metadata": {},
   "source": [
    "FILLING IN MISSING VALUES"
   ]
  },
  {
   "cell_type": "code",
   "execution_count": 15,
   "id": "4fa49033-8646-4281-9897-e28209f89f64",
   "metadata": {},
   "outputs": [
    {
     "data": {
      "text/plain": [
       "precip        0.016668\n",
       "snow          0.324990\n",
       "snow_depth    0.317634\n",
       "temp_max      0.000534\n",
       "temp_min      0.000593\n",
       "dtype: float64"
      ]
     },
     "execution_count": 15,
     "metadata": {},
     "output_type": "execute_result"
    }
   ],
   "source": [
    "core_weather.apply(pd.isnull).sum()/core_weather.shape[0]"
   ]
  },
  {
   "cell_type": "code",
   "execution_count": 16,
   "id": "2a0025f8-0af6-47e9-aaa1-b24b9f484f3f",
   "metadata": {},
   "outputs": [
    {
     "data": {
      "text/plain": [
       "0.0    11379\n",
       "1.0        1\n",
       "Name: snow, dtype: int64"
      ]
     },
     "execution_count": 16,
     "metadata": {},
     "output_type": "execute_result"
    }
   ],
   "source": [
    "core_weather[\"snow\"].value_counts()"
   ]
  },
  {
   "cell_type": "code",
   "execution_count": 17,
   "id": "85f6ba09-9d7b-492d-b1ca-862699deea5e",
   "metadata": {},
   "outputs": [],
   "source": [
    "del core_weather[\"snow\"]"
   ]
  },
  {
   "cell_type": "code",
   "execution_count": 18,
   "id": "232a9613-c6ef-4cac-ab0a-23fe98671142",
   "metadata": {},
   "outputs": [
    {
     "data": {
      "text/plain": [
       "0.0    11504\n",
       "Name: snow_depth, dtype: int64"
      ]
     },
     "execution_count": 18,
     "metadata": {},
     "output_type": "execute_result"
    }
   ],
   "source": [
    "core_weather[\"snow_depth\"].value_counts()"
   ]
  },
  {
   "cell_type": "code",
   "execution_count": 19,
   "id": "49d656e7-3a91-4df2-8798-efd094d6e40b",
   "metadata": {},
   "outputs": [],
   "source": [
    "del core_weather[\"snow_depth\"]"
   ]
  },
  {
   "cell_type": "code",
   "execution_count": 20,
   "id": "30e5d64e-50f6-49a8-9aed-49fbe3d9c1e2",
   "metadata": {},
   "outputs": [
    {
     "data": {
      "text/html": [
       "<div>\n",
       "<style scoped>\n",
       "    .dataframe tbody tr th:only-of-type {\n",
       "        vertical-align: middle;\n",
       "    }\n",
       "\n",
       "    .dataframe tbody tr th {\n",
       "        vertical-align: top;\n",
       "    }\n",
       "\n",
       "    .dataframe thead th {\n",
       "        text-align: right;\n",
       "    }\n",
       "</style>\n",
       "<table border=\"1\" class=\"dataframe\">\n",
       "  <thead>\n",
       "    <tr style=\"text-align: right;\">\n",
       "      <th></th>\n",
       "      <th>precip</th>\n",
       "      <th>temp_max</th>\n",
       "      <th>temp_min</th>\n",
       "    </tr>\n",
       "    <tr>\n",
       "      <th>DATE</th>\n",
       "      <th></th>\n",
       "      <th></th>\n",
       "      <th></th>\n",
       "    </tr>\n",
       "  </thead>\n",
       "  <tbody>\n",
       "    <tr>\n",
       "      <th>1983-10-20</th>\n",
       "      <td>0.00</td>\n",
       "      <td>73.0</td>\n",
       "      <td>52.0</td>\n",
       "    </tr>\n",
       "    <tr>\n",
       "      <th>1983-10-21</th>\n",
       "      <td>0.00</td>\n",
       "      <td>70.0</td>\n",
       "      <td>50.0</td>\n",
       "    </tr>\n",
       "    <tr>\n",
       "      <th>1983-10-22</th>\n",
       "      <td>0.00</td>\n",
       "      <td>70.0</td>\n",
       "      <td>50.0</td>\n",
       "    </tr>\n",
       "    <tr>\n",
       "      <th>1983-10-23</th>\n",
       "      <td>0.00</td>\n",
       "      <td>69.0</td>\n",
       "      <td>60.0</td>\n",
       "    </tr>\n",
       "    <tr>\n",
       "      <th>1983-10-24</th>\n",
       "      <td>0.00</td>\n",
       "      <td>73.0</td>\n",
       "      <td>58.0</td>\n",
       "    </tr>\n",
       "    <tr>\n",
       "      <th>1983-10-25</th>\n",
       "      <td>0.00</td>\n",
       "      <td>75.0</td>\n",
       "      <td>53.0</td>\n",
       "    </tr>\n",
       "    <tr>\n",
       "      <th>1983-10-26</th>\n",
       "      <td>0.00</td>\n",
       "      <td>79.0</td>\n",
       "      <td>53.0</td>\n",
       "    </tr>\n",
       "    <tr>\n",
       "      <th>1983-10-27</th>\n",
       "      <td>0.00</td>\n",
       "      <td>82.0</td>\n",
       "      <td>56.0</td>\n",
       "    </tr>\n",
       "    <tr>\n",
       "      <th>1983-10-28</th>\n",
       "      <td>0.00</td>\n",
       "      <td>74.0</td>\n",
       "      <td>56.0</td>\n",
       "    </tr>\n",
       "    <tr>\n",
       "      <th>1983-10-29</th>\n",
       "      <td>NaN</td>\n",
       "      <td>67.0</td>\n",
       "      <td>57.0</td>\n",
       "    </tr>\n",
       "    <tr>\n",
       "      <th>1983-10-30</th>\n",
       "      <td>NaN</td>\n",
       "      <td>70.0</td>\n",
       "      <td>63.0</td>\n",
       "    </tr>\n",
       "    <tr>\n",
       "      <th>1983-10-31</th>\n",
       "      <td>NaN</td>\n",
       "      <td>69.0</td>\n",
       "      <td>61.0</td>\n",
       "    </tr>\n",
       "    <tr>\n",
       "      <th>1983-11-01</th>\n",
       "      <td>0.26</td>\n",
       "      <td>69.0</td>\n",
       "      <td>60.0</td>\n",
       "    </tr>\n",
       "    <tr>\n",
       "      <th>1983-11-02</th>\n",
       "      <td>0.06</td>\n",
       "      <td>68.0</td>\n",
       "      <td>56.0</td>\n",
       "    </tr>\n",
       "    <tr>\n",
       "      <th>1983-11-03</th>\n",
       "      <td>0.00</td>\n",
       "      <td>68.0</td>\n",
       "      <td>56.0</td>\n",
       "    </tr>\n",
       "    <tr>\n",
       "      <th>1983-11-04</th>\n",
       "      <td>0.00</td>\n",
       "      <td>67.0</td>\n",
       "      <td>55.0</td>\n",
       "    </tr>\n",
       "    <tr>\n",
       "      <th>1983-11-05</th>\n",
       "      <td>0.00</td>\n",
       "      <td>66.0</td>\n",
       "      <td>51.0</td>\n",
       "    </tr>\n",
       "  </tbody>\n",
       "</table>\n",
       "</div>"
      ],
      "text/plain": [
       "            precip  temp_max  temp_min\n",
       "DATE                                  \n",
       "1983-10-20    0.00      73.0      52.0\n",
       "1983-10-21    0.00      70.0      50.0\n",
       "1983-10-22    0.00      70.0      50.0\n",
       "1983-10-23    0.00      69.0      60.0\n",
       "1983-10-24    0.00      73.0      58.0\n",
       "1983-10-25    0.00      75.0      53.0\n",
       "1983-10-26    0.00      79.0      53.0\n",
       "1983-10-27    0.00      82.0      56.0\n",
       "1983-10-28    0.00      74.0      56.0\n",
       "1983-10-29     NaN      67.0      57.0\n",
       "1983-10-30     NaN      70.0      63.0\n",
       "1983-10-31     NaN      69.0      61.0\n",
       "1983-11-01    0.26      69.0      60.0\n",
       "1983-11-02    0.06      68.0      56.0\n",
       "1983-11-03    0.00      68.0      56.0\n",
       "1983-11-04    0.00      67.0      55.0\n",
       "1983-11-05    0.00      66.0      51.0"
      ]
     },
     "execution_count": 20,
     "metadata": {},
     "output_type": "execute_result"
    }
   ],
   "source": [
    "core_weather.loc[\"1983-10-20\":\"1983-11-05\",:]"
   ]
  },
  {
   "cell_type": "code",
   "execution_count": 21,
   "id": "f665b3c7-e581-4cb0-b4e3-5bbdc072bd86",
   "metadata": {},
   "outputs": [
    {
     "data": {
      "text/plain": [
       "0.00    13664\n",
       "0.01      438\n",
       "0.02      199\n",
       "0.03      122\n",
       "0.04      102\n",
       "        ...  \n",
       "3.39        1\n",
       "1.01        1\n",
       "1.88        1\n",
       "1.37        1\n",
       "1.29        1\n",
       "Name: precip, Length: 176, dtype: int64"
      ]
     },
     "execution_count": 21,
     "metadata": {},
     "output_type": "execute_result"
    }
   ],
   "source": [
    "core_weather[\"precip\"].value_counts()"
   ]
  },
  {
   "cell_type": "code",
   "execution_count": 22,
   "id": "6e623eb1-11b7-4b19-a339-05a92b781cf2",
   "metadata": {},
   "outputs": [],
   "source": [
    "core_weather[\"precip\"] = core_weather[\"precip\"].fillna(0)"
   ]
  },
  {
   "cell_type": "code",
   "execution_count": 23,
   "id": "cbd9a8fa-b7dd-4fe1-b3f9-89cc979a5963",
   "metadata": {},
   "outputs": [
    {
     "data": {
      "text/html": [
       "<div>\n",
       "<style scoped>\n",
       "    .dataframe tbody tr th:only-of-type {\n",
       "        vertical-align: middle;\n",
       "    }\n",
       "\n",
       "    .dataframe tbody tr th {\n",
       "        vertical-align: top;\n",
       "    }\n",
       "\n",
       "    .dataframe thead th {\n",
       "        text-align: right;\n",
       "    }\n",
       "</style>\n",
       "<table border=\"1\" class=\"dataframe\">\n",
       "  <thead>\n",
       "    <tr style=\"text-align: right;\">\n",
       "      <th></th>\n",
       "      <th>precip</th>\n",
       "      <th>temp_max</th>\n",
       "      <th>temp_min</th>\n",
       "    </tr>\n",
       "    <tr>\n",
       "      <th>DATE</th>\n",
       "      <th></th>\n",
       "      <th></th>\n",
       "      <th></th>\n",
       "    </tr>\n",
       "  </thead>\n",
       "  <tbody>\n",
       "    <tr>\n",
       "      <th>2004-11-20</th>\n",
       "      <td>0.0</td>\n",
       "      <td>NaN</td>\n",
       "      <td>NaN</td>\n",
       "    </tr>\n",
       "    <tr>\n",
       "      <th>2011-12-21</th>\n",
       "      <td>0.0</td>\n",
       "      <td>61.0</td>\n",
       "      <td>NaN</td>\n",
       "    </tr>\n",
       "    <tr>\n",
       "      <th>2011-12-22</th>\n",
       "      <td>0.0</td>\n",
       "      <td>62.0</td>\n",
       "      <td>NaN</td>\n",
       "    </tr>\n",
       "    <tr>\n",
       "      <th>2011-12-23</th>\n",
       "      <td>0.0</td>\n",
       "      <td>56.0</td>\n",
       "      <td>NaN</td>\n",
       "    </tr>\n",
       "    <tr>\n",
       "      <th>2011-12-24</th>\n",
       "      <td>0.0</td>\n",
       "      <td>55.0</td>\n",
       "      <td>NaN</td>\n",
       "    </tr>\n",
       "    <tr>\n",
       "      <th>2011-12-25</th>\n",
       "      <td>0.0</td>\n",
       "      <td>54.0</td>\n",
       "      <td>NaN</td>\n",
       "    </tr>\n",
       "    <tr>\n",
       "      <th>2013-06-16</th>\n",
       "      <td>0.0</td>\n",
       "      <td>NaN</td>\n",
       "      <td>NaN</td>\n",
       "    </tr>\n",
       "    <tr>\n",
       "      <th>2020-08-29</th>\n",
       "      <td>0.0</td>\n",
       "      <td>NaN</td>\n",
       "      <td>NaN</td>\n",
       "    </tr>\n",
       "    <tr>\n",
       "      <th>2020-09-08</th>\n",
       "      <td>0.0</td>\n",
       "      <td>NaN</td>\n",
       "      <td>NaN</td>\n",
       "    </tr>\n",
       "    <tr>\n",
       "      <th>2020-09-09</th>\n",
       "      <td>0.0</td>\n",
       "      <td>NaN</td>\n",
       "      <td>NaN</td>\n",
       "    </tr>\n",
       "  </tbody>\n",
       "</table>\n",
       "</div>"
      ],
      "text/plain": [
       "            precip  temp_max  temp_min\n",
       "DATE                                  \n",
       "2004-11-20     0.0       NaN       NaN\n",
       "2011-12-21     0.0      61.0       NaN\n",
       "2011-12-22     0.0      62.0       NaN\n",
       "2011-12-23     0.0      56.0       NaN\n",
       "2011-12-24     0.0      55.0       NaN\n",
       "2011-12-25     0.0      54.0       NaN\n",
       "2013-06-16     0.0       NaN       NaN\n",
       "2020-08-29     0.0       NaN       NaN\n",
       "2020-09-08     0.0       NaN       NaN\n",
       "2020-09-09     0.0       NaN       NaN"
      ]
     },
     "execution_count": 23,
     "metadata": {},
     "output_type": "execute_result"
    }
   ],
   "source": [
    "core_weather[pd.isnull(core_weather[\"temp_min\"])]"
   ]
  },
  {
   "cell_type": "code",
   "execution_count": 24,
   "id": "cf0575e4-0931-4c65-b9f9-7a8dcbbc5950",
   "metadata": {},
   "outputs": [],
   "source": [
    "core_weather = core_weather.fillna(method=\"ffill\")"
   ]
  },
  {
   "cell_type": "code",
   "execution_count": 25,
   "id": "449724e2-54c3-455b-bc1a-d998142e8d7c",
   "metadata": {},
   "outputs": [
    {
     "data": {
      "text/plain": [
       "precip      0.0\n",
       "temp_max    0.0\n",
       "temp_min    0.0\n",
       "dtype: float64"
      ]
     },
     "execution_count": 25,
     "metadata": {},
     "output_type": "execute_result"
    }
   ],
   "source": [
    "core_weather.apply(pd.isnull).sum()/core_weather.shape[0] "
   ]
  },
  {
   "cell_type": "markdown",
   "id": "ea737b74-136d-4fd3-afd7-ee4adb1288dc",
   "metadata": {},
   "source": [
    "VERIFYING DATA TYPES"
   ]
  },
  {
   "cell_type": "code",
   "execution_count": 26,
   "id": "5463f04d-694c-42d1-a03e-7e4d676792e9",
   "metadata": {},
   "outputs": [
    {
     "data": {
      "text/plain": [
       "precip      float64\n",
       "temp_max    float64\n",
       "temp_min    float64\n",
       "dtype: object"
      ]
     },
     "execution_count": 26,
     "metadata": {},
     "output_type": "execute_result"
    }
   ],
   "source": [
    "core_weather.dtypes"
   ]
  },
  {
   "cell_type": "code",
   "execution_count": 27,
   "id": "8e1315f4-6f24-45bc-9c50-3dbd2c64ac54",
   "metadata": {},
   "outputs": [
    {
     "data": {
      "text/plain": [
       "Index(['1960-01-01', '1960-01-02', '1960-01-03', '1960-01-04', '1960-01-05',\n",
       "       '1960-01-06', '1960-01-07', '1960-01-08', '1960-01-09', '1960-01-10',\n",
       "       ...\n",
       "       '2022-01-19', '2022-01-20', '2022-01-21', '2022-01-22', '2022-01-23',\n",
       "       '2022-01-24', '2022-01-25', '2022-01-26', '2022-01-27', '2022-01-28'],\n",
       "      dtype='object', name='DATE', length=16859)"
      ]
     },
     "execution_count": 27,
     "metadata": {},
     "output_type": "execute_result"
    }
   ],
   "source": [
    "core_weather.index"
   ]
  },
  {
   "cell_type": "code",
   "execution_count": 28,
   "id": "8f3c58c9-4bb3-491f-81d4-15c52b2cc399",
   "metadata": {},
   "outputs": [],
   "source": [
    "core_weather.index = pd.to_datetime(core_weather.index)"
   ]
  },
  {
   "cell_type": "code",
   "execution_count": 29,
   "id": "cabc9608-b602-4a33-9156-cfbce8532cef",
   "metadata": {},
   "outputs": [
    {
     "data": {
      "text/plain": [
       "DatetimeIndex(['1960-01-01', '1960-01-02', '1960-01-03', '1960-01-04',\n",
       "               '1960-01-05', '1960-01-06', '1960-01-07', '1960-01-08',\n",
       "               '1960-01-09', '1960-01-10',\n",
       "               ...\n",
       "               '2022-01-19', '2022-01-20', '2022-01-21', '2022-01-22',\n",
       "               '2022-01-23', '2022-01-24', '2022-01-25', '2022-01-26',\n",
       "               '2022-01-27', '2022-01-28'],\n",
       "              dtype='datetime64[ns]', name='DATE', length=16859, freq=None)"
      ]
     },
     "execution_count": 29,
     "metadata": {},
     "output_type": "execute_result"
    }
   ],
   "source": [
    "core_weather.index"
   ]
  },
  {
   "cell_type": "code",
   "execution_count": 30,
   "id": "cbf34754-b680-4d7e-b026-32fc210624d5",
   "metadata": {},
   "outputs": [
    {
     "data": {
      "text/plain": [
       "precip      0\n",
       "temp_max    0\n",
       "temp_min    0\n",
       "dtype: int64"
      ]
     },
     "execution_count": 30,
     "metadata": {},
     "output_type": "execute_result"
    }
   ],
   "source": [
    "core_weather.apply(lambda x: (x==999).sum())"
   ]
  },
  {
   "cell_type": "markdown",
   "id": "92c9e4b9-4087-402c-8cf0-328dfb6fb460",
   "metadata": {},
   "source": [
    "ANALYZING THE WEATHER DATA"
   ]
  },
  {
   "cell_type": "code",
   "execution_count": 31,
   "id": "6ebfff7e-151d-4662-9b5e-c1b516e10fe1",
   "metadata": {},
   "outputs": [
    {
     "data": {
      "text/plain": [
       "<AxesSubplot:xlabel='DATE'>"
      ]
     },
     "execution_count": 31,
     "metadata": {},
     "output_type": "execute_result"
    },
    {
     "data": {
      "image/png": "[encoded data removed]",
      "text/plain": [
       "<Figure size 432x288 with 1 Axes>"
      ]
     },
     "metadata": {
      "needs_background": "light"
     },
     "output_type": "display_data"
    }
   ],
   "source": [
    "core_weather[[\"temp_max\",\"temp_min\"]].plot()"
   ]
  },
  {
   "cell_type": "code",
   "execution_count": 33,
   "id": "31e246d4-29a1-4484-ab9f-feafc7f1eb94",
   "metadata": {},
   "outputs": [
    {
     "data": {
      "text/plain": [
       "1960    366\n",
       "1961    365\n",
       "1962    365\n",
       "1963    365\n",
       "1964    366\n",
       "1965    365\n",
       "1966    365\n",
       "1967    365\n",
       "1968    366\n",
       "1969    365\n",
       "1970    365\n",
       "1971    365\n",
       "1972    366\n",
       "1973    365\n",
       "1974    365\n",
       "1975    365\n",
       "1976    366\n",
       "1977    365\n",
       "1978    365\n",
       "1979    365\n",
       "1980    366\n",
       "1983    184\n",
       "1984    366\n",
       "1985    365\n",
       "1986    212\n",
       "2000    365\n",
       "2001    365\n",
       "2002    365\n",
       "2003    365\n",
       "2004    366\n",
       "2005    365\n",
       "2006    365\n",
       "2007    365\n",
       "2008    366\n",
       "2009    365\n",
       "2010    365\n",
       "2011    365\n",
       "2012    365\n",
       "2013    365\n",
       "2014    365\n",
       "2015    365\n",
       "2016    366\n",
       "2017    365\n",
       "2018    365\n",
       "2019    365\n",
       "2020    366\n",
       "2021    364\n",
       "2022     28\n",
       "Name: DATE, dtype: int64"
      ]
     },
     "execution_count": 33,
     "metadata": {},
     "output_type": "execute_result"
    }
   ],
   "source": [
    "core_weather.index.year.value_counts().sort_index()"
   ]
  },
  {
   "cell_type": "code",
   "execution_count": 34,
   "id": "a0079362-9045-4410-9aa3-3fc8b7c1e2b6",
   "metadata": {},
   "outputs": [
    {
     "data": {
      "text/plain": [
       "<AxesSubplot:xlabel='DATE'>"
      ]
     },
     "execution_count": 34,
     "metadata": {},
     "output_type": "execute_result"
    },
    {
     "data": {
      "image/png": "[encoded data removed]",
      "text/plain": [
       "<Figure size 432x288 with 1 Axes>"
      ]
     },
     "metadata": {
      "needs_background": "light"
     },
     "output_type": "display_data"
    }
   ],
   "source": [
    "core_weather[\"precip\"].plot()"
   ]
  },
  {
   "cell_type": "code",
   "execution_count": 35,
   "id": "be43fc88-5baf-41d1-ada2-75c14f39b503",
   "metadata": {},
   "outputs": [
    {
     "data": {
      "text/plain": [
       "DATE\n",
       "1960    14.01\n",
       "1961    13.87\n",
       "1962    22.47\n",
       "1963    19.11\n",
       "1964    16.83\n",
       "1965    16.32\n",
       "1966    13.11\n",
       "1967    23.98\n",
       "1968    17.19\n",
       "1969    25.70\n",
       "1970    25.31\n",
       "1971    10.61\n",
       "1972    16.27\n",
       "1973    29.37\n",
       "1974    16.87\n",
       "1975    17.54\n",
       "1976     8.64\n",
       "1977    11.70\n",
       "1978    22.57\n",
       "1979    23.79\n",
       "1980    13.58\n",
       "1983     7.13\n",
       "1984    16.03\n",
       "1985     8.50\n",
       "1986     0.00\n",
       "2000    21.09\n",
       "2001    22.84\n",
       "2002    19.12\n",
       "2003    11.37\n",
       "2004    12.97\n",
       "2005    27.37\n",
       "2006    22.79\n",
       "2007    12.79\n",
       "2008    13.86\n",
       "2009    14.57\n",
       "2010    22.67\n",
       "2011    16.06\n",
       "2012    22.93\n",
       "2013     4.89\n",
       "2014    19.62\n",
       "2015     8.58\n",
       "2016    19.77\n",
       "2017    23.34\n",
       "2018    16.82\n",
       "2019    20.00\n",
       "2020     6.42\n",
       "2021    20.82\n",
       "2022     0.25\n",
       "Name: precip, dtype: float64"
      ]
     },
     "execution_count": 35,
     "metadata": {},
     "output_type": "execute_result"
    }
   ],
   "source": [
    "core_weather.groupby(core_weather.index.year).sum()[\"precip\"]"
   ]
  },
  {
   "cell_type": "markdown",
   "id": "7581ff7d-93b3-4363-940b-dc42f793bd26",
   "metadata": {},
   "source": [
    "TRAINING FIRST MACHINE LEARNING MODEL"
   ]
  },
  {
   "cell_type": "code",
   "execution_count": 36,
   "id": "a8fb44aa-0610-4e1e-ab4e-e11347f82736",
   "metadata": {},
   "outputs": [],
   "source": [
    "core_weather[\"target\"]=core_weather.shift(-1)[\"temp_max\"]"
   ]
  },
  {
   "cell_type": "code",
   "execution_count": 37,
   "id": "276327f5-6609-4f78-ac7f-02a3bb49813f",
   "metadata": {},
   "outputs": [
    {
     "data": {
      "text/html": [
       "<div>\n",
       "<style scoped>\n",
       "    .dataframe tbody tr th:only-of-type {\n",
       "        vertical-align: middle;\n",
       "    }\n",
       "\n",
       "    .dataframe tbody tr th {\n",
       "        vertical-align: top;\n",
       "    }\n",
       "\n",
       "    .dataframe thead th {\n",
       "        text-align: right;\n",
       "    }\n",
       "</style>\n",
       "<table border=\"1\" class=\"dataframe\">\n",
       "  <thead>\n",
       "    <tr style=\"text-align: right;\">\n",
       "      <th></th>\n",
       "      <th>precip</th>\n",
       "      <th>temp_max</th>\n",
       "      <th>temp_min</th>\n",
       "      <th>target</th>\n",
       "    </tr>\n",
       "    <tr>\n",
       "      <th>DATE</th>\n",
       "      <th></th>\n",
       "      <th></th>\n",
       "      <th></th>\n",
       "      <th></th>\n",
       "    </tr>\n",
       "  </thead>\n",
       "  <tbody>\n",
       "    <tr>\n",
       "      <th>1960-01-01</th>\n",
       "      <td>0.0</td>\n",
       "      <td>49.0</td>\n",
       "      <td>30.0</td>\n",
       "      <td>49.0</td>\n",
       "    </tr>\n",
       "    <tr>\n",
       "      <th>1960-01-02</th>\n",
       "      <td>0.0</td>\n",
       "      <td>49.0</td>\n",
       "      <td>29.0</td>\n",
       "      <td>54.0</td>\n",
       "    </tr>\n",
       "    <tr>\n",
       "      <th>1960-01-03</th>\n",
       "      <td>0.0</td>\n",
       "      <td>54.0</td>\n",
       "      <td>35.0</td>\n",
       "      <td>54.0</td>\n",
       "    </tr>\n",
       "    <tr>\n",
       "      <th>1960-01-04</th>\n",
       "      <td>0.0</td>\n",
       "      <td>54.0</td>\n",
       "      <td>36.0</td>\n",
       "      <td>55.0</td>\n",
       "    </tr>\n",
       "    <tr>\n",
       "      <th>1960-01-05</th>\n",
       "      <td>0.0</td>\n",
       "      <td>55.0</td>\n",
       "      <td>33.0</td>\n",
       "      <td>53.0</td>\n",
       "    </tr>\n",
       "    <tr>\n",
       "      <th>...</th>\n",
       "      <td>...</td>\n",
       "      <td>...</td>\n",
       "      <td>...</td>\n",
       "      <td>...</td>\n",
       "    </tr>\n",
       "    <tr>\n",
       "      <th>2022-01-24</th>\n",
       "      <td>0.0</td>\n",
       "      <td>60.0</td>\n",
       "      <td>39.0</td>\n",
       "      <td>57.0</td>\n",
       "    </tr>\n",
       "    <tr>\n",
       "      <th>2022-01-25</th>\n",
       "      <td>0.0</td>\n",
       "      <td>57.0</td>\n",
       "      <td>43.0</td>\n",
       "      <td>57.0</td>\n",
       "    </tr>\n",
       "    <tr>\n",
       "      <th>2022-01-26</th>\n",
       "      <td>0.0</td>\n",
       "      <td>57.0</td>\n",
       "      <td>41.0</td>\n",
       "      <td>67.0</td>\n",
       "    </tr>\n",
       "    <tr>\n",
       "      <th>2022-01-27</th>\n",
       "      <td>0.0</td>\n",
       "      <td>67.0</td>\n",
       "      <td>39.0</td>\n",
       "      <td>64.0</td>\n",
       "    </tr>\n",
       "    <tr>\n",
       "      <th>2022-01-28</th>\n",
       "      <td>0.0</td>\n",
       "      <td>64.0</td>\n",
       "      <td>39.0</td>\n",
       "      <td>NaN</td>\n",
       "    </tr>\n",
       "  </tbody>\n",
       "</table>\n",
       "<p>16859 rows × 4 columns</p>\n",
       "</div>"
      ],
      "text/plain": [
       "            precip  temp_max  temp_min  target\n",
       "DATE                                          \n",
       "1960-01-01     0.0      49.0      30.0    49.0\n",
       "1960-01-02     0.0      49.0      29.0    54.0\n",
       "1960-01-03     0.0      54.0      35.0    54.0\n",
       "1960-01-04     0.0      54.0      36.0    55.0\n",
       "1960-01-05     0.0      55.0      33.0    53.0\n",
       "...            ...       ...       ...     ...\n",
       "2022-01-24     0.0      60.0      39.0    57.0\n",
       "2022-01-25     0.0      57.0      43.0    57.0\n",
       "2022-01-26     0.0      57.0      41.0    67.0\n",
       "2022-01-27     0.0      67.0      39.0    64.0\n",
       "2022-01-28     0.0      64.0      39.0     NaN\n",
       "\n",
       "[16859 rows x 4 columns]"
      ]
     },
     "execution_count": 37,
     "metadata": {},
     "output_type": "execute_result"
    }
   ],
   "source": [
    "core_weather"
   ]
  },
  {
   "cell_type": "code",
   "execution_count": 38,
   "id": "db211060-f2ba-4c0d-b22f-39adc95a6043",
   "metadata": {},
   "outputs": [],
   "source": [
    "core_weather=core_weather.iloc[:-1,:]"
   ]
  },
  {
   "cell_type": "code",
   "execution_count": 39,
   "id": "1fee80f5-ab83-4a27-933e-d5490c3e6b23",
   "metadata": {},
   "outputs": [
    {
     "data": {
      "text/html": [
       "<div>\n",
       "<style scoped>\n",
       "    .dataframe tbody tr th:only-of-type {\n",
       "        vertical-align: middle;\n",
       "    }\n",
       "\n",
       "    .dataframe tbody tr th {\n",
       "        vertical-align: top;\n",
       "    }\n",
       "\n",
       "    .dataframe thead th {\n",
       "        text-align: right;\n",
       "    }\n",
       "</style>\n",
       "<table border=\"1\" class=\"dataframe\">\n",
       "  <thead>\n",
       "    <tr style=\"text-align: right;\">\n",
       "      <th></th>\n",
       "      <th>precip</th>\n",
       "      <th>temp_max</th>\n",
       "      <th>temp_min</th>\n",
       "      <th>target</th>\n",
       "    </tr>\n",
       "    <tr>\n",
       "      <th>DATE</th>\n",
       "      <th></th>\n",
       "      <th></th>\n",
       "      <th></th>\n",
       "      <th></th>\n",
       "    </tr>\n",
       "  </thead>\n",
       "  <tbody>\n",
       "    <tr>\n",
       "      <th>1960-01-01</th>\n",
       "      <td>0.0</td>\n",
       "      <td>49.0</td>\n",
       "      <td>30.0</td>\n",
       "      <td>49.0</td>\n",
       "    </tr>\n",
       "    <tr>\n",
       "      <th>1960-01-02</th>\n",
       "      <td>0.0</td>\n",
       "      <td>49.0</td>\n",
       "      <td>29.0</td>\n",
       "      <td>54.0</td>\n",
       "    </tr>\n",
       "    <tr>\n",
       "      <th>1960-01-03</th>\n",
       "      <td>0.0</td>\n",
       "      <td>54.0</td>\n",
       "      <td>35.0</td>\n",
       "      <td>54.0</td>\n",
       "    </tr>\n",
       "    <tr>\n",
       "      <th>1960-01-04</th>\n",
       "      <td>0.0</td>\n",
       "      <td>54.0</td>\n",
       "      <td>36.0</td>\n",
       "      <td>55.0</td>\n",
       "    </tr>\n",
       "    <tr>\n",
       "      <th>1960-01-05</th>\n",
       "      <td>0.0</td>\n",
       "      <td>55.0</td>\n",
       "      <td>33.0</td>\n",
       "      <td>53.0</td>\n",
       "    </tr>\n",
       "    <tr>\n",
       "      <th>...</th>\n",
       "      <td>...</td>\n",
       "      <td>...</td>\n",
       "      <td>...</td>\n",
       "      <td>...</td>\n",
       "    </tr>\n",
       "    <tr>\n",
       "      <th>2022-01-23</th>\n",
       "      <td>0.0</td>\n",
       "      <td>60.0</td>\n",
       "      <td>41.0</td>\n",
       "      <td>60.0</td>\n",
       "    </tr>\n",
       "    <tr>\n",
       "      <th>2022-01-24</th>\n",
       "      <td>0.0</td>\n",
       "      <td>60.0</td>\n",
       "      <td>39.0</td>\n",
       "      <td>57.0</td>\n",
       "    </tr>\n",
       "    <tr>\n",
       "      <th>2022-01-25</th>\n",
       "      <td>0.0</td>\n",
       "      <td>57.0</td>\n",
       "      <td>43.0</td>\n",
       "      <td>57.0</td>\n",
       "    </tr>\n",
       "    <tr>\n",
       "      <th>2022-01-26</th>\n",
       "      <td>0.0</td>\n",
       "      <td>57.0</td>\n",
       "      <td>41.0</td>\n",
       "      <td>67.0</td>\n",
       "    </tr>\n",
       "    <tr>\n",
       "      <th>2022-01-27</th>\n",
       "      <td>0.0</td>\n",
       "      <td>67.0</td>\n",
       "      <td>39.0</td>\n",
       "      <td>64.0</td>\n",
       "    </tr>\n",
       "  </tbody>\n",
       "</table>\n",
       "<p>16858 rows × 4 columns</p>\n",
       "</div>"
      ],
      "text/plain": [
       "            precip  temp_max  temp_min  target\n",
       "DATE                                          \n",
       "1960-01-01     0.0      49.0      30.0    49.0\n",
       "1960-01-02     0.0      49.0      29.0    54.0\n",
       "1960-01-03     0.0      54.0      35.0    54.0\n",
       "1960-01-04     0.0      54.0      36.0    55.0\n",
       "1960-01-05     0.0      55.0      33.0    53.0\n",
       "...            ...       ...       ...     ...\n",
       "2022-01-23     0.0      60.0      41.0    60.0\n",
       "2022-01-24     0.0      60.0      39.0    57.0\n",
       "2022-01-25     0.0      57.0      43.0    57.0\n",
       "2022-01-26     0.0      57.0      41.0    67.0\n",
       "2022-01-27     0.0      67.0      39.0    64.0\n",
       "\n",
       "[16858 rows x 4 columns]"
      ]
     },
     "execution_count": 39,
     "metadata": {},
     "output_type": "execute_result"
    }
   ],
   "source": [
    "core_weather"
   ]
  },
  {
   "cell_type": "code",
   "execution_count": 40,
   "id": "a50bd42f-6584-48aa-ad2f-c9959fcf597c",
   "metadata": {},
   "outputs": [
    {
     "name": "stdout",
     "output_type": "stream",
     "text": [
      "Requirement already satisfied: scikit-learn in c:\\users\\91920\\anaconda3\\lib\\site-packages (1.1.1)Note: you may need to restart the kernel to use updated packages.\n",
      "\n",
      "Requirement already satisfied: scipy>=1.3.2 in c:\\users\\91920\\anaconda3\\lib\\site-packages (from scikit-learn) (1.6.2)\n",
      "Requirement already satisfied: joblib>=1.0.0 in c:\\users\\91920\\anaconda3\\lib\\site-packages (from scikit-learn) (1.0.1)\n",
      "Requirement already satisfied: numpy>=1.17.3 in c:\\users\\91920\\anaconda3\\lib\\site-packages (from scikit-learn) (1.20.1)\n",
      "Requirement already satisfied: threadpoolctl>=2.0.0 in c:\\users\\91920\\anaconda3\\lib\\site-packages (from scikit-learn) (2.1.0)\n"
     ]
    }
   ],
   "source": [
    "pip install -U scikit-learn"
   ]
  },
  {
   "cell_type": "code",
   "execution_count": 41,
   "id": "fefa5d1a-da4c-43f6-90a6-1fb51561aae1",
   "metadata": {},
   "outputs": [],
   "source": [
    "from sklearn.linear_model import Ridge\n",
    "\n",
    "reg = Ridge(alpha=.1)"
   ]
  },
  {
   "cell_type": "code",
   "execution_count": 47,
   "id": "5811b030-38bb-4ab3-970c-1e7f23c761e8",
   "metadata": {},
   "outputs": [],
   "source": [
    "predictors = [\"precip\",\"temp_max\",\"temp_min\"]"
   ]
  },
  {
   "cell_type": "code",
   "execution_count": 48,
   "id": "8a4078db-7060-48f5-9537-f9da34e4ebf8",
   "metadata": {},
   "outputs": [],
   "source": [
    "train = core_weather.loc[:\"2020-12-31\"]"
   ]
  },
  {
   "cell_type": "code",
   "execution_count": 49,
   "id": "a35053d0-4eaa-4f35-95b7-147625071e2d",
   "metadata": {},
   "outputs": [],
   "source": [
    "test = core_weather.loc[\"2021-01-01\":]"
   ]
  },
  {
   "cell_type": "code",
   "execution_count": 50,
   "id": "641d1508-791e-40b7-824f-071e2c1048e8",
   "metadata": {},
   "outputs": [
    {
     "data": {
      "text/html": [
       "<style>#sk-container-id-2 {color: black;background-color: white;}#sk-container-id-2 pre{padding: 0;}#sk-container-id-2 div.sk-toggleable {background-color: white;}#sk-container-id-2 label.sk-toggleable__label {cursor: pointer;display: block;width: 100%;margin-bottom: 0;padding: 0.3em;box-sizing: border-box;text-align: center;}#sk-container-id-2 label.sk-toggleable__label-arrow:before {content: \"▸\";float: left;margin-right: 0.25em;color: #696969;}#sk-container-id-2 label.sk-toggleable__label-arrow:hover:before {color: black;}#sk-container-id-2 div.sk-estimator:hover label.sk-toggleable__label-arrow:before {color: black;}#sk-container-id-2 div.sk-toggleable__content {max-height: 0;max-width: 0;overflow: hidden;text-align: left;background-color: #f0f8ff;}#sk-container-id-2 div.sk-toggleable__content pre {margin: 0.2em;color: black;border-radius: 0.25em;background-color: #f0f8ff;}#sk-container-id-2 input.sk-toggleable__control:checked~div.sk-toggleable__content {max-height: 200px;max-width: 100%;overflow: auto;}#sk-container-id-2 input.sk-toggleable__control:checked~label.sk-toggleable__label-arrow:before {content: \"▾\";}#sk-container-id-2 div.sk-estimator input.sk-toggleable__control:checked~label.sk-toggleable__label {background-color: #d4ebff;}#sk-container-id-2 div.sk-label input.sk-toggleable__control:checked~label.sk-toggleable__label {background-color: #d4ebff;}#sk-container-id-2 input.sk-hidden--visually {border: 0;clip: rect(1px 1px 1px 1px);clip: rect(1px, 1px, 1px, 1px);height: 1px;margin: -1px;overflow: hidden;padding: 0;position: absolute;width: 1px;}#sk-container-id-2 div.sk-estimator {font-family: monospace;background-color: #f0f8ff;border: 1px dotted black;border-radius: 0.25em;box-sizing: border-box;margin-bottom: 0.5em;}#sk-container-id-2 div.sk-estimator:hover {background-color: #d4ebff;}#sk-container-id-2 div.sk-parallel-item::after {content: \"\";width: 100%;border-bottom: 1px solid gray;flex-grow: 1;}#sk-container-id-2 div.sk-label:hover label.sk-toggleable__label {background-color: #d4ebff;}#sk-container-id-2 div.sk-serial::before {content: \"\";position: absolute;border-left: 1px solid gray;box-sizing: border-box;top: 0;bottom: 0;left: 50%;z-index: 0;}#sk-container-id-2 div.sk-serial {display: flex;flex-direction: column;align-items: center;background-color: white;padding-right: 0.2em;padding-left: 0.2em;position: relative;}#sk-container-id-2 div.sk-item {position: relative;z-index: 1;}#sk-container-id-2 div.sk-parallel {display: flex;align-items: stretch;justify-content: center;background-color: white;position: relative;}#sk-container-id-2 div.sk-item::before, #sk-container-id-2 div.sk-parallel-item::before {content: \"\";position: absolute;border-left: 1px solid gray;box-sizing: border-box;top: 0;bottom: 0;left: 50%;z-index: -1;}#sk-container-id-2 div.sk-parallel-item {display: flex;flex-direction: column;z-index: 1;position: relative;background-color: white;}#sk-container-id-2 div.sk-parallel-item:first-child::after {align-self: flex-end;width: 50%;}#sk-container-id-2 div.sk-parallel-item:last-child::after {align-self: flex-start;width: 50%;}#sk-container-id-2 div.sk-parallel-item:only-child::after {width: 0;}#sk-container-id-2 div.sk-dashed-wrapped {border: 1px dashed gray;margin: 0 0.4em 0.5em 0.4em;box-sizing: border-box;padding-bottom: 0.4em;background-color: white;}#sk-container-id-2 div.sk-label label {font-family: monospace;font-weight: bold;display: inline-block;line-height: 1.2em;}#sk-container-id-2 div.sk-label-container {text-align: center;}#sk-container-id-2 div.sk-container {/* jupyter's `normalize.less` sets `[hidden] { display: none; }` but bootstrap.min.css set `[hidden] { display: none !important; }` so we also need the `!important` here to be able to override the default hidden behavior on the sphinx rendered scikit-learn.org. See: https://github.com/scikit-learn/scikit-learn/issues/21755 */display: inline-block !important;position: relative;}#sk-container-id-2 div.sk-text-repr-fallback {display: none;}</style><div id=\"sk-container-id-2\" class=\"sk-top-container\"><div class=\"sk-text-repr-fallback\"><pre>Ridge(alpha=0.1)</pre><b>In a Jupyter environment, please rerun this cell to show the HTML representation or trust the notebook. <br />On GitHub, the HTML representation is unable to render, please try loading this page with nbviewer.org.</b></div><div class=\"sk-container\" hidden><div class=\"sk-item\"><div class=\"sk-estimator sk-toggleable\"><input class=\"sk-toggleable__control sk-hidden--visually\" id=\"sk-estimator-id-2\" type=\"checkbox\" checked><label for=\"sk-estimator-id-2\" class=\"sk-toggleable__label sk-toggleable__label-arrow\">Ridge</label><div class=\"sk-toggleable__content\"><pre>Ridge(alpha=0.1)</pre></div></div></div></div></div>"
      ],
      "text/plain": [
       "Ridge(alpha=0.1)"
      ]
     },
     "execution_count": 50,
     "metadata": {},
     "output_type": "execute_result"
    }
   ],
   "source": [
    "reg.fit(train[predictors],train[\"target\"])"
   ]
  },
  {
   "cell_type": "code",
   "execution_count": 59,
   "id": "437383cf-2bf9-4641-82aa-eb79ba9492f9",
   "metadata": {},
   "outputs": [],
   "source": [
    "predictions=reg.predict(test[predictors])"
   ]
  },
  {
   "cell_type": "code",
   "execution_count": 55,
   "id": "bb679d1c-5231-4939-9a0d-0fed61931210",
   "metadata": {},
   "outputs": [],
   "source": [
    "from sklearn.metrics import mean_absolute_error"
   ]
  },
  {
   "cell_type": "code",
   "execution_count": 60,
   "id": "b36619ed-afbc-42fc-ad38-717deb27e7b5",
   "metadata": {},
   "outputs": [
    {
     "data": {
      "text/plain": [
       "3.4111699434528306"
      ]
     },
     "execution_count": 60,
     "metadata": {},
     "output_type": "execute_result"
    }
   ],
   "source": [
    "mean_absolute_error(test[\"target\"],predictions)"
   ]
  },
  {
   "cell_type": "markdown",
   "id": "829c6a2e-bca1-43fc-a849-8b0684fe8948",
   "metadata": {},
   "source": [
    "EVALUVATION OF THE MODEL"
   ]
  },
  {
   "cell_type": "code",
   "execution_count": 62,
   "id": "c0e11a03-ff28-41a3-9203-db3276d64a6b",
   "metadata": {},
   "outputs": [],
   "source": [
    "combined = pd.concat([test[\"target\"],pd.Series(predictions,index=test.index)],axis=1)"
   ]
  },
  {
   "cell_type": "code",
   "execution_count": 64,
   "id": "e741d155-0211-4348-a16e-ac65962324a2",
   "metadata": {},
   "outputs": [
    {
     "data": {
      "text/html": [
       "<div>\n",
       "<style scoped>\n",
       "    .dataframe tbody tr th:only-of-type {\n",
       "        vertical-align: middle;\n",
       "    }\n",
       "\n",
       "    .dataframe tbody tr th {\n",
       "        vertical-align: top;\n",
       "    }\n",
       "\n",
       "    .dataframe thead th {\n",
       "        text-align: right;\n",
       "    }\n",
       "</style>\n",
       "<table border=\"1\" class=\"dataframe\">\n",
       "  <thead>\n",
       "    <tr style=\"text-align: right;\">\n",
       "      <th></th>\n",
       "      <th>actual</th>\n",
       "      <th>predictions</th>\n",
       "    </tr>\n",
       "    <tr>\n",
       "      <th>DATE</th>\n",
       "      <th></th>\n",
       "      <th></th>\n",
       "    </tr>\n",
       "  </thead>\n",
       "  <tbody>\n",
       "    <tr>\n",
       "      <th>2021-01-01</th>\n",
       "      <td>57.0</td>\n",
       "      <td>59.806024</td>\n",
       "    </tr>\n",
       "    <tr>\n",
       "      <th>2021-01-02</th>\n",
       "      <td>56.0</td>\n",
       "      <td>59.310181</td>\n",
       "    </tr>\n",
       "    <tr>\n",
       "      <th>2021-01-03</th>\n",
       "      <td>62.0</td>\n",
       "      <td>58.538685</td>\n",
       "    </tr>\n",
       "    <tr>\n",
       "      <th>2021-01-04</th>\n",
       "      <td>59.0</td>\n",
       "      <td>61.531814</td>\n",
       "    </tr>\n",
       "    <tr>\n",
       "      <th>2021-01-05</th>\n",
       "      <td>59.0</td>\n",
       "      <td>59.444266</td>\n",
       "    </tr>\n",
       "    <tr>\n",
       "      <th>...</th>\n",
       "      <td>...</td>\n",
       "      <td>...</td>\n",
       "    </tr>\n",
       "    <tr>\n",
       "      <th>2022-01-23</th>\n",
       "      <td>60.0</td>\n",
       "      <td>59.985714</td>\n",
       "    </tr>\n",
       "    <tr>\n",
       "      <th>2022-01-24</th>\n",
       "      <td>57.0</td>\n",
       "      <td>59.626333</td>\n",
       "    </tr>\n",
       "    <tr>\n",
       "      <th>2022-01-25</th>\n",
       "      <td>57.0</td>\n",
       "      <td>58.181680</td>\n",
       "    </tr>\n",
       "    <tr>\n",
       "      <th>2022-01-26</th>\n",
       "      <td>67.0</td>\n",
       "      <td>57.822299</td>\n",
       "    </tr>\n",
       "    <tr>\n",
       "      <th>2022-01-27</th>\n",
       "      <td>64.0</td>\n",
       "      <td>64.674302</td>\n",
       "    </tr>\n",
       "  </tbody>\n",
       "</table>\n",
       "<p>391 rows × 2 columns</p>\n",
       "</div>"
      ],
      "text/plain": [
       "            actual  predictions\n",
       "DATE                           \n",
       "2021-01-01    57.0    59.806024\n",
       "2021-01-02    56.0    59.310181\n",
       "2021-01-03    62.0    58.538685\n",
       "2021-01-04    59.0    61.531814\n",
       "2021-01-05    59.0    59.444266\n",
       "...            ...          ...\n",
       "2022-01-23    60.0    59.985714\n",
       "2022-01-24    57.0    59.626333\n",
       "2022-01-25    57.0    58.181680\n",
       "2022-01-26    67.0    57.822299\n",
       "2022-01-27    64.0    64.674302\n",
       "\n",
       "[391 rows x 2 columns]"
      ]
     },
     "execution_count": 64,
     "metadata": {},
     "output_type": "execute_result"
    }
   ],
   "source": [
    "combined.columns=[\"actual\",\"predictions\"]\n",
    "combined"
   ]
  },
  {
   "cell_type": "code",
   "execution_count": 66,
   "id": "266714fc-62da-4798-b958-8c211e6fded1",
   "metadata": {},
   "outputs": [
    {
     "data": {
      "text/plain": [
       "<AxesSubplot:xlabel='DATE'>"
      ]
     },
     "execution_count": 66,
     "metadata": {},
     "output_type": "execute_result"
    },
    {
     "data": {
      "image/png": "[encoded data removed]",
      "text/plain": [
       "<Figure size 432x288 with 1 Axes>"
      ]
     },
     "metadata": {
      "needs_background": "light"
     },
     "output_type": "display_data"
    }
   ],
   "source": [
    "combined.plot()"
   ]
  },
  {
   "cell_type": "code",
   "execution_count": 67,
   "id": "39b97472-547c-4ffc-b082-1ce26b50253b",
   "metadata": {},
   "outputs": [
    {
     "data": {
      "text/plain": [
       "array([-2.20730384,  0.72113834,  0.17969047])"
      ]
     },
     "execution_count": 67,
     "metadata": {},
     "output_type": "execute_result"
    }
   ],
   "source": [
    "reg.coef_"
   ]
  },
  {
   "cell_type": "markdown",
   "id": "91c8f689-5b8b-4cbc-8821-21c6c62c0708",
   "metadata": {},
   "source": [
    "CREATING A FUNCTION TO MAKE PREDICTIONS"
   ]
  },
  {
   "cell_type": "code",
   "execution_count": 68,
   "id": "0869fc84-c34c-46af-87ec-7415496af590",
   "metadata": {},
   "outputs": [],
   "source": [
    "def create_predictions(predictors,core_weather,reg):\n",
    "    train = core_weather.loc[:\"2020-12-31\"]\n",
    "    test = core_weather.loc[\"2021-01-01\":]\n",
    "    reg.fit(train[predictors],train[\"target\"])\n",
    "    predictions=reg.predict(test[predictors])\n",
    "    error = mean_absolute_error(test[\"target\"],predictions)\n",
    "    combined = pd.concat([test[\"target\"],pd.Series(predictions,index=test.index)],axis=1)\n",
    "    combined.columns=[\"actual\",\"predictions\"]\n",
    "    return error,combined \n"
   ]
  },
  {
   "cell_type": "markdown",
   "id": "3192b104-6958-4f61-bc55-8cc4f515b2df",
   "metadata": {},
   "source": [
    "ADDING IN ROLLING MEANS"
   ]
  },
  {
   "cell_type": "code",
   "execution_count": 69,
   "id": "886f8586-ffb6-491c-bba5-1e4908ef7e34",
   "metadata": {},
   "outputs": [
    {
     "name": "stderr",
     "output_type": "stream",
     "text": [
      "<ipython-input-69-ac0a3abf7b48>:1: SettingWithCopyWarning: \n",
      "A value is trying to be set on a copy of a slice from a DataFrame.\n",
      "Try using .loc[row_indexer,col_indexer] = value instead\n",
      "\n",
      "See the caveats in the documentation: https://pandas.pydata.org/pandas-docs/stable/user_guide/indexing.html#returning-a-view-versus-a-copy\n",
      "  core_weather[\"month_max\"] = core_weather[\"temp_max\"].rolling(30).mean()\n"
     ]
    }
   ],
   "source": [
    "core_weather[\"month_max\"] = core_weather[\"temp_max\"].rolling(30).mean()"
   ]
  },
  {
   "cell_type": "code",
   "execution_count": 70,
   "id": "40107aa7-8e9b-4ed2-a506-13cba2d78c2c",
   "metadata": {},
   "outputs": [
    {
     "data": {
      "text/html": [
       "<div>\n",
       "<style scoped>\n",
       "    .dataframe tbody tr th:only-of-type {\n",
       "        vertical-align: middle;\n",
       "    }\n",
       "\n",
       "    .dataframe tbody tr th {\n",
       "        vertical-align: top;\n",
       "    }\n",
       "\n",
       "    .dataframe thead th {\n",
       "        text-align: right;\n",
       "    }\n",
       "</style>\n",
       "<table border=\"1\" class=\"dataframe\">\n",
       "  <thead>\n",
       "    <tr style=\"text-align: right;\">\n",
       "      <th></th>\n",
       "      <th>precip</th>\n",
       "      <th>temp_max</th>\n",
       "      <th>temp_min</th>\n",
       "      <th>target</th>\n",
       "      <th>month_max</th>\n",
       "    </tr>\n",
       "    <tr>\n",
       "      <th>DATE</th>\n",
       "      <th></th>\n",
       "      <th></th>\n",
       "      <th></th>\n",
       "      <th></th>\n",
       "      <th></th>\n",
       "    </tr>\n",
       "  </thead>\n",
       "  <tbody>\n",
       "    <tr>\n",
       "      <th>1960-01-01</th>\n",
       "      <td>0.0</td>\n",
       "      <td>49.0</td>\n",
       "      <td>30.0</td>\n",
       "      <td>49.0</td>\n",
       "      <td>NaN</td>\n",
       "    </tr>\n",
       "    <tr>\n",
       "      <th>1960-01-02</th>\n",
       "      <td>0.0</td>\n",
       "      <td>49.0</td>\n",
       "      <td>29.0</td>\n",
       "      <td>54.0</td>\n",
       "      <td>NaN</td>\n",
       "    </tr>\n",
       "    <tr>\n",
       "      <th>1960-01-03</th>\n",
       "      <td>0.0</td>\n",
       "      <td>54.0</td>\n",
       "      <td>35.0</td>\n",
       "      <td>54.0</td>\n",
       "      <td>NaN</td>\n",
       "    </tr>\n",
       "    <tr>\n",
       "      <th>1960-01-04</th>\n",
       "      <td>0.0</td>\n",
       "      <td>54.0</td>\n",
       "      <td>36.0</td>\n",
       "      <td>55.0</td>\n",
       "      <td>NaN</td>\n",
       "    </tr>\n",
       "    <tr>\n",
       "      <th>1960-01-05</th>\n",
       "      <td>0.0</td>\n",
       "      <td>55.0</td>\n",
       "      <td>33.0</td>\n",
       "      <td>53.0</td>\n",
       "      <td>NaN</td>\n",
       "    </tr>\n",
       "    <tr>\n",
       "      <th>...</th>\n",
       "      <td>...</td>\n",
       "      <td>...</td>\n",
       "      <td>...</td>\n",
       "      <td>...</td>\n",
       "      <td>...</td>\n",
       "    </tr>\n",
       "    <tr>\n",
       "      <th>2022-01-23</th>\n",
       "      <td>0.0</td>\n",
       "      <td>60.0</td>\n",
       "      <td>41.0</td>\n",
       "      <td>60.0</td>\n",
       "      <td>56.900000</td>\n",
       "    </tr>\n",
       "    <tr>\n",
       "      <th>2022-01-24</th>\n",
       "      <td>0.0</td>\n",
       "      <td>60.0</td>\n",
       "      <td>39.0</td>\n",
       "      <td>57.0</td>\n",
       "      <td>57.066667</td>\n",
       "    </tr>\n",
       "    <tr>\n",
       "      <th>2022-01-25</th>\n",
       "      <td>0.0</td>\n",
       "      <td>57.0</td>\n",
       "      <td>43.0</td>\n",
       "      <td>57.0</td>\n",
       "      <td>57.200000</td>\n",
       "    </tr>\n",
       "    <tr>\n",
       "      <th>2022-01-26</th>\n",
       "      <td>0.0</td>\n",
       "      <td>57.0</td>\n",
       "      <td>41.0</td>\n",
       "      <td>67.0</td>\n",
       "      <td>57.400000</td>\n",
       "    </tr>\n",
       "    <tr>\n",
       "      <th>2022-01-27</th>\n",
       "      <td>0.0</td>\n",
       "      <td>67.0</td>\n",
       "      <td>39.0</td>\n",
       "      <td>64.0</td>\n",
       "      <td>57.933333</td>\n",
       "    </tr>\n",
       "  </tbody>\n",
       "</table>\n",
       "<p>16858 rows × 5 columns</p>\n",
       "</div>"
      ],
      "text/plain": [
       "            precip  temp_max  temp_min  target  month_max\n",
       "DATE                                                     \n",
       "1960-01-01     0.0      49.0      30.0    49.0        NaN\n",
       "1960-01-02     0.0      49.0      29.0    54.0        NaN\n",
       "1960-01-03     0.0      54.0      35.0    54.0        NaN\n",
       "1960-01-04     0.0      54.0      36.0    55.0        NaN\n",
       "1960-01-05     0.0      55.0      33.0    53.0        NaN\n",
       "...            ...       ...       ...     ...        ...\n",
       "2022-01-23     0.0      60.0      41.0    60.0  56.900000\n",
       "2022-01-24     0.0      60.0      39.0    57.0  57.066667\n",
       "2022-01-25     0.0      57.0      43.0    57.0  57.200000\n",
       "2022-01-26     0.0      57.0      41.0    67.0  57.400000\n",
       "2022-01-27     0.0      67.0      39.0    64.0  57.933333\n",
       "\n",
       "[16858 rows x 5 columns]"
      ]
     },
     "execution_count": 70,
     "metadata": {},
     "output_type": "execute_result"
    }
   ],
   "source": [
    "core_weather"
   ]
  },
  {
   "cell_type": "code",
   "execution_count": 71,
   "id": "84046adb-92db-4a97-bf84-ea3c54da1fdb",
   "metadata": {},
   "outputs": [
    {
     "name": "stderr",
     "output_type": "stream",
     "text": [
      "<ipython-input-71-5de84e0cbdd4>:1: SettingWithCopyWarning: \n",
      "A value is trying to be set on a copy of a slice from a DataFrame.\n",
      "Try using .loc[row_indexer,col_indexer] = value instead\n",
      "\n",
      "See the caveats in the documentation: https://pandas.pydata.org/pandas-docs/stable/user_guide/indexing.html#returning-a-view-versus-a-copy\n",
      "  core_weather[\"month_day_max\"] = core_weather[\"month_max\"]/core_weather[\"temp_max\"]\n"
     ]
    }
   ],
   "source": [
    "core_weather[\"month_day_max\"] = core_weather[\"month_max\"]/core_weather[\"temp_max\"]"
   ]
  },
  {
   "cell_type": "code",
   "execution_count": 72,
   "id": "27e25d2a-e43f-4fbc-887e-04e54e6bd16e",
   "metadata": {},
   "outputs": [
    {
     "name": "stderr",
     "output_type": "stream",
     "text": [
      "<ipython-input-72-3670f3757786>:1: SettingWithCopyWarning: \n",
      "A value is trying to be set on a copy of a slice from a DataFrame.\n",
      "Try using .loc[row_indexer,col_indexer] = value instead\n",
      "\n",
      "See the caveats in the documentation: https://pandas.pydata.org/pandas-docs/stable/user_guide/indexing.html#returning-a-view-versus-a-copy\n",
      "  core_weather[\"max_min\"] = core_weather[\"temp_max\"]/core_weather[\"temp_min\"]\n"
     ]
    }
   ],
   "source": [
    "core_weather[\"max_min\"] = core_weather[\"temp_max\"]/core_weather[\"temp_min\"]"
   ]
  },
  {
   "cell_type": "code",
   "execution_count": 77,
   "id": "23aaf112-acca-4a79-9b12-04983ebf4b28",
   "metadata": {},
   "outputs": [],
   "source": [
    "predictors = [\"precip\",\"temp_max\",\"temp_min\",\"month_max\",\"month_day_max\",\"max_min\"]"
   ]
  },
  {
   "cell_type": "code",
   "execution_count": 78,
   "id": "87ab76a3-413c-48db-b6a1-25d8dbe5cac0",
   "metadata": {},
   "outputs": [],
   "source": [
    "core_weather = core_weather.iloc[30:,:].copy()"
   ]
  },
  {
   "cell_type": "code",
   "execution_count": 79,
   "id": "850c5d1a-22f8-42f0-8716-5097c6713ac9",
   "metadata": {},
   "outputs": [],
   "source": [
    "error,combined = create_predictions(predictors, core_weather, reg)"
   ]
  },
  {
   "cell_type": "raw",
   "id": "d5f8bed6-04c5-4a19-b52a-07c4dd9fd5c1",
   "metadata": {},
   "source": [
    "error"
   ]
  },
  {
   "cell_type": "code",
   "execution_count": 80,
   "id": "248979a7-0dcc-47df-956c-68e7959b439c",
   "metadata": {},
   "outputs": [
    {
     "data": {
      "text/plain": [
       "<AxesSubplot:xlabel='DATE'>"
      ]
     },
     "execution_count": 80,
     "metadata": {},
     "output_type": "execute_result"
    },
    {
     "data": {
      "image/png": "[encoded data removed]",
      "text/plain": [
       "<Figure size 432x288 with 1 Axes>"
      ]
     },
     "metadata": {
      "needs_background": "light"
     },
     "output_type": "display_data"
    }
   ],
   "source": [
    "combined.plot()"
   ]
  },
  {
   "cell_type": "markdown",
   "id": "a5736809-bbed-4c94-a81e-fa83a299fd00",
   "metadata": {},
   "source": [
    "ADDING IN MONTHLY AND DAILY AVARAGES"
   ]
  },
  {
   "cell_type": "code",
   "execution_count": 81,
   "id": "160a2b01-2bcc-472f-bb7a-ffff3996c8f8",
   "metadata": {},
   "outputs": [],
   "source": [
    "core_weather[\"monthly_avg\"] = core_weather[\"temp_max\"].groupby(core_weather.index.month).apply(lambda x:x.expanding(1).mean())"
   ]
  },
  {
   "cell_type": "code",
   "execution_count": 82,
   "id": "6b5d7555-d9ae-4acb-8bdc-82cfcb673593",
   "metadata": {},
   "outputs": [
    {
     "data": {
      "text/html": [
       "<div>\n",
       "<style scoped>\n",
       "    .dataframe tbody tr th:only-of-type {\n",
       "        vertical-align: middle;\n",
       "    }\n",
       "\n",
       "    .dataframe tbody tr th {\n",
       "        vertical-align: top;\n",
       "    }\n",
       "\n",
       "    .dataframe thead th {\n",
       "        text-align: right;\n",
       "    }\n",
       "</style>\n",
       "<table border=\"1\" class=\"dataframe\">\n",
       "  <thead>\n",
       "    <tr style=\"text-align: right;\">\n",
       "      <th></th>\n",
       "      <th>precip</th>\n",
       "      <th>temp_max</th>\n",
       "      <th>temp_min</th>\n",
       "      <th>target</th>\n",
       "      <th>month_max</th>\n",
       "      <th>month_day_max</th>\n",
       "      <th>max_min</th>\n",
       "      <th>monthly_avg</th>\n",
       "    </tr>\n",
       "    <tr>\n",
       "      <th>DATE</th>\n",
       "      <th></th>\n",
       "      <th></th>\n",
       "      <th></th>\n",
       "      <th></th>\n",
       "      <th></th>\n",
       "      <th></th>\n",
       "      <th></th>\n",
       "      <th></th>\n",
       "    </tr>\n",
       "  </thead>\n",
       "  <tbody>\n",
       "    <tr>\n",
       "      <th>1960-03-01</th>\n",
       "      <td>0.00</td>\n",
       "      <td>55.0</td>\n",
       "      <td>43.0</td>\n",
       "      <td>58.0</td>\n",
       "      <td>59.866667</td>\n",
       "      <td>1.088485</td>\n",
       "      <td>1.279070</td>\n",
       "      <td>55.000000</td>\n",
       "    </tr>\n",
       "    <tr>\n",
       "      <th>1960-03-02</th>\n",
       "      <td>0.00</td>\n",
       "      <td>58.0</td>\n",
       "      <td>40.0</td>\n",
       "      <td>62.0</td>\n",
       "      <td>59.733333</td>\n",
       "      <td>1.029885</td>\n",
       "      <td>1.450000</td>\n",
       "      <td>56.500000</td>\n",
       "    </tr>\n",
       "    <tr>\n",
       "      <th>1960-03-03</th>\n",
       "      <td>0.00</td>\n",
       "      <td>62.0</td>\n",
       "      <td>47.0</td>\n",
       "      <td>62.0</td>\n",
       "      <td>59.833333</td>\n",
       "      <td>0.965054</td>\n",
       "      <td>1.319149</td>\n",
       "      <td>58.333333</td>\n",
       "    </tr>\n",
       "    <tr>\n",
       "      <th>1960-03-04</th>\n",
       "      <td>0.00</td>\n",
       "      <td>62.0</td>\n",
       "      <td>52.0</td>\n",
       "      <td>58.0</td>\n",
       "      <td>59.933333</td>\n",
       "      <td>0.966667</td>\n",
       "      <td>1.192308</td>\n",
       "      <td>59.250000</td>\n",
       "    </tr>\n",
       "    <tr>\n",
       "      <th>1960-03-05</th>\n",
       "      <td>0.13</td>\n",
       "      <td>58.0</td>\n",
       "      <td>54.0</td>\n",
       "      <td>59.0</td>\n",
       "      <td>59.866667</td>\n",
       "      <td>1.032184</td>\n",
       "      <td>1.074074</td>\n",
       "      <td>59.000000</td>\n",
       "    </tr>\n",
       "    <tr>\n",
       "      <th>...</th>\n",
       "      <td>...</td>\n",
       "      <td>...</td>\n",
       "      <td>...</td>\n",
       "      <td>...</td>\n",
       "      <td>...</td>\n",
       "      <td>...</td>\n",
       "      <td>...</td>\n",
       "      <td>...</td>\n",
       "    </tr>\n",
       "    <tr>\n",
       "      <th>2022-01-23</th>\n",
       "      <td>0.00</td>\n",
       "      <td>60.0</td>\n",
       "      <td>41.0</td>\n",
       "      <td>60.0</td>\n",
       "      <td>56.900000</td>\n",
       "      <td>0.948333</td>\n",
       "      <td>1.463415</td>\n",
       "      <td>56.779972</td>\n",
       "    </tr>\n",
       "    <tr>\n",
       "      <th>2022-01-24</th>\n",
       "      <td>0.00</td>\n",
       "      <td>60.0</td>\n",
       "      <td>39.0</td>\n",
       "      <td>57.0</td>\n",
       "      <td>57.066667</td>\n",
       "      <td>0.951111</td>\n",
       "      <td>1.538462</td>\n",
       "      <td>56.782241</td>\n",
       "    </tr>\n",
       "    <tr>\n",
       "      <th>2022-01-25</th>\n",
       "      <td>0.00</td>\n",
       "      <td>57.0</td>\n",
       "      <td>43.0</td>\n",
       "      <td>57.0</td>\n",
       "      <td>57.200000</td>\n",
       "      <td>1.003509</td>\n",
       "      <td>1.325581</td>\n",
       "      <td>56.782394</td>\n",
       "    </tr>\n",
       "    <tr>\n",
       "      <th>2022-01-26</th>\n",
       "      <td>0.00</td>\n",
       "      <td>57.0</td>\n",
       "      <td>41.0</td>\n",
       "      <td>67.0</td>\n",
       "      <td>57.400000</td>\n",
       "      <td>1.007018</td>\n",
       "      <td>1.390244</td>\n",
       "      <td>56.782548</td>\n",
       "    </tr>\n",
       "    <tr>\n",
       "      <th>2022-01-27</th>\n",
       "      <td>0.00</td>\n",
       "      <td>67.0</td>\n",
       "      <td>39.0</td>\n",
       "      <td>64.0</td>\n",
       "      <td>57.933333</td>\n",
       "      <td>0.864677</td>\n",
       "      <td>1.717949</td>\n",
       "      <td>56.789733</td>\n",
       "    </tr>\n",
       "  </tbody>\n",
       "</table>\n",
       "<p>16798 rows × 8 columns</p>\n",
       "</div>"
      ],
      "text/plain": [
       "            precip  temp_max  temp_min  target  month_max  month_day_max  \\\n",
       "DATE                                                                       \n",
       "1960-03-01    0.00      55.0      43.0    58.0  59.866667       1.088485   \n",
       "1960-03-02    0.00      58.0      40.0    62.0  59.733333       1.029885   \n",
       "1960-03-03    0.00      62.0      47.0    62.0  59.833333       0.965054   \n",
       "1960-03-04    0.00      62.0      52.0    58.0  59.933333       0.966667   \n",
       "1960-03-05    0.13      58.0      54.0    59.0  59.866667       1.032184   \n",
       "...            ...       ...       ...     ...        ...            ...   \n",
       "2022-01-23    0.00      60.0      41.0    60.0  56.900000       0.948333   \n",
       "2022-01-24    0.00      60.0      39.0    57.0  57.066667       0.951111   \n",
       "2022-01-25    0.00      57.0      43.0    57.0  57.200000       1.003509   \n",
       "2022-01-26    0.00      57.0      41.0    67.0  57.400000       1.007018   \n",
       "2022-01-27    0.00      67.0      39.0    64.0  57.933333       0.864677   \n",
       "\n",
       "             max_min  monthly_avg  \n",
       "DATE                               \n",
       "1960-03-01  1.279070    55.000000  \n",
       "1960-03-02  1.450000    56.500000  \n",
       "1960-03-03  1.319149    58.333333  \n",
       "1960-03-04  1.192308    59.250000  \n",
       "1960-03-05  1.074074    59.000000  \n",
       "...              ...          ...  \n",
       "2022-01-23  1.463415    56.779972  \n",
       "2022-01-24  1.538462    56.782241  \n",
       "2022-01-25  1.325581    56.782394  \n",
       "2022-01-26  1.390244    56.782548  \n",
       "2022-01-27  1.717949    56.789733  \n",
       "\n",
       "[16798 rows x 8 columns]"
      ]
     },
     "execution_count": 82,
     "metadata": {},
     "output_type": "execute_result"
    }
   ],
   "source": [
    "core_weather"
   ]
  },
  {
   "cell_type": "code",
   "execution_count": 84,
   "id": "78647396-c4c3-48a4-a2ef-6a04b8fd992b",
   "metadata": {},
   "outputs": [],
   "source": [
    "core_weather[\"day_of_year_avg\"] = core_weather[\"temp_max\"].groupby(core_weather.index.day_of_year).apply(lambda x:x.expanding(1).mean())"
   ]
  },
  {
   "cell_type": "code",
   "execution_count": 85,
   "id": "f2a04dc8-479f-4289-90cf-b24a3b99450c",
   "metadata": {},
   "outputs": [
    {
     "data": {
      "text/plain": [
       "3.317600193675463"
      ]
     },
     "execution_count": 85,
     "metadata": {},
     "output_type": "execute_result"
    }
   ],
   "source": [
    "error, combined = create_predictions(predictors + [\"monthly_avg\", \"day_of_year_avg\"], core_weather, reg)\n",
    "error"
   ]
  },
  {
   "cell_type": "code",
   "execution_count": 86,
   "id": "b6731038-4b54-495f-8885-c5f3ef4e40e2",
   "metadata": {},
   "outputs": [
    {
     "data": {
      "text/plain": [
       "array([ -0.90657491,   0.40057565,   0.03082803,   0.33761669,\n",
       "       -16.03804065,   0.04917173,   0.14250199,   0.08102419])"
      ]
     },
     "execution_count": 86,
     "metadata": {},
     "output_type": "execute_result"
    }
   ],
   "source": [
    "reg.coef_"
   ]
  },
  {
   "cell_type": "code",
   "execution_count": 87,
   "id": "5c72ad72-2588-497e-814e-750cb3c73953",
   "metadata": {},
   "outputs": [
    {
     "data": {
      "text/plain": [
       "precip            -0.205377\n",
       "temp_max           0.821602\n",
       "temp_min           0.595878\n",
       "target             1.000000\n",
       "month_max          0.686644\n",
       "month_day_max     -0.422229\n",
       "max_min            0.045358\n",
       "monthly_avg        0.689615\n",
       "day_of_year_avg    0.712303\n",
       "Name: target, dtype: float64"
      ]
     },
     "execution_count": 87,
     "metadata": {},
     "output_type": "execute_result"
    }
   ],
   "source": [
    "core_weather.corr()[\"target\"]"
   ]
  },
  {
   "cell_type": "code",
   "execution_count": 88,
   "id": "42202db4-beea-4c98-8a9b-ac2b60a6cb2d",
   "metadata": {},
   "outputs": [],
   "source": [
    "combined[\"diff\"] = (combined[\"actual\"] - combined[\"predictions\"]).abs()"
   ]
  },
  {
   "cell_type": "code",
   "execution_count": 89,
   "id": "077a5e29-69c8-447d-beff-aca254ac3a4f",
   "metadata": {},
   "outputs": [
    {
     "data": {
      "text/html": [
       "<div>\n",
       "<style scoped>\n",
       "    .dataframe tbody tr th:only-of-type {\n",
       "        vertical-align: middle;\n",
       "    }\n",
       "\n",
       "    .dataframe tbody tr th {\n",
       "        vertical-align: top;\n",
       "    }\n",
       "\n",
       "    .dataframe thead th {\n",
       "        text-align: right;\n",
       "    }\n",
       "</style>\n",
       "<table border=\"1\" class=\"dataframe\">\n",
       "  <thead>\n",
       "    <tr style=\"text-align: right;\">\n",
       "      <th></th>\n",
       "      <th>actual</th>\n",
       "      <th>predictions</th>\n",
       "      <th>diff</th>\n",
       "    </tr>\n",
       "    <tr>\n",
       "      <th>DATE</th>\n",
       "      <th></th>\n",
       "      <th></th>\n",
       "      <th></th>\n",
       "    </tr>\n",
       "  </thead>\n",
       "  <tbody>\n",
       "    <tr>\n",
       "      <th>2021-01-17</th>\n",
       "      <td>83.0</td>\n",
       "      <td>68.589700</td>\n",
       "      <td>14.410300</td>\n",
       "    </tr>\n",
       "    <tr>\n",
       "      <th>2021-05-07</th>\n",
       "      <td>81.0</td>\n",
       "      <td>67.776807</td>\n",
       "      <td>13.223193</td>\n",
       "    </tr>\n",
       "    <tr>\n",
       "      <th>2021-04-01</th>\n",
       "      <td>62.0</td>\n",
       "      <td>75.178193</td>\n",
       "      <td>13.178193</td>\n",
       "    </tr>\n",
       "    <tr>\n",
       "      <th>2021-02-22</th>\n",
       "      <td>84.0</td>\n",
       "      <td>71.172492</td>\n",
       "      <td>12.827508</td>\n",
       "    </tr>\n",
       "    <tr>\n",
       "      <th>2021-10-16</th>\n",
       "      <td>66.0</td>\n",
       "      <td>78.826308</td>\n",
       "      <td>12.826308</td>\n",
       "    </tr>\n",
       "    <tr>\n",
       "      <th>2021-02-21</th>\n",
       "      <td>77.0</td>\n",
       "      <td>64.423096</td>\n",
       "      <td>12.576904</td>\n",
       "    </tr>\n",
       "    <tr>\n",
       "      <th>2021-03-30</th>\n",
       "      <td>82.0</td>\n",
       "      <td>70.111539</td>\n",
       "      <td>11.888461</td>\n",
       "    </tr>\n",
       "    <tr>\n",
       "      <th>2021-06-16</th>\n",
       "      <td>91.0</td>\n",
       "      <td>79.113773</td>\n",
       "      <td>11.886227</td>\n",
       "    </tr>\n",
       "    <tr>\n",
       "      <th>2021-07-07</th>\n",
       "      <td>79.0</td>\n",
       "      <td>67.318536</td>\n",
       "      <td>11.681464</td>\n",
       "    </tr>\n",
       "    <tr>\n",
       "      <th>2021-10-04</th>\n",
       "      <td>69.0</td>\n",
       "      <td>80.408194</td>\n",
       "      <td>11.408194</td>\n",
       "    </tr>\n",
       "  </tbody>\n",
       "</table>\n",
       "</div>"
      ],
      "text/plain": [
       "            actual  predictions       diff\n",
       "DATE                                      \n",
       "2021-01-17    83.0    68.589700  14.410300\n",
       "2021-05-07    81.0    67.776807  13.223193\n",
       "2021-04-01    62.0    75.178193  13.178193\n",
       "2021-02-22    84.0    71.172492  12.827508\n",
       "2021-10-16    66.0    78.826308  12.826308\n",
       "2021-02-21    77.0    64.423096  12.576904\n",
       "2021-03-30    82.0    70.111539  11.888461\n",
       "2021-06-16    91.0    79.113773  11.886227\n",
       "2021-07-07    79.0    67.318536  11.681464\n",
       "2021-10-04    69.0    80.408194  11.408194"
      ]
     },
     "execution_count": 89,
     "metadata": {},
     "output_type": "execute_result"
    }
   ],
   "source": [
    "combined.sort_values(\"diff\", ascending=False).head(10)"
   ]
  },
  {
   "cell_type": "raw",
   "id": "63589222-02a7-4634-81bb-a2d624eddf6b",
   "metadata": {},
   "source": [
    "# Next steps\n",
    "\n",
    "* Predict weather for entire next week versus a single day\n",
    "* Try data from multiple close-by weather stations over a region\n",
    "* Use more of the predictors in the data file\n",
    "* Create more predictors (ratios, daily averages, etc)\n",
    "* Try different algorithms\n",
    "* Setup backtesting to make predictions for all years (versus just 2021)"
   ]
  },
  {
   "cell_type": "code",
   "execution_count": null,
   "id": "831462f1-0a09-481c-9c0d-94078e03406f",
   "metadata": {},
   "outputs": [],
   "source": []
  }
 ],
 "metadata": {
  "kernelspec": {
   "display_name": "Python 3",
   "language": "python",
   "name": "python3"
  },
  "language_info": {
   "codemirror_mode": {
    "name": "ipython",
    "version": 3
   },
   "file_extension": ".py",
   "mimetype": "text/x-python",
   "name": "python",
   "nbconvert_exporter": "python",
   "pygments_lexer": "ipython3",
   "version": "3.8.8"
  }
 },
 "nbformat": 4,
 "nbformat_minor": 5
}
